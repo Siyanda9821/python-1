{
 "cells": [
  {
   "cell_type": "code",
   "execution_count": 7,
   "metadata": {},
   "outputs": [],
   "source": [
    "movies = [\n",
    "    {\"title\": \"Inception\", \"ratings\": [5, 4, 5, 4, 5]},\n",
    "    {\"title\": \"Interstellar\", \"ratings\": [5, 5, 4, 5, 4]},\n",
    "    {\"title\": \"Dunkirk\", \"ratings\": [4, 4, 4, 3, 4]},\n",
    "    {\"title\": \"The Dark Knight\", \"ratings\": [5, 5, 5, 5, 5]},\n",
    "    {\"title\": \"Memento\", \"ratings\": [4, 5, 4, 5, 4]},\n",
    "]\n"
   ]
  },
  {
   "cell_type": "code",
   "execution_count": 12,
   "metadata": {},
   "outputs": [
    {
     "data": {
      "text/plain": [
       "['Inception', 'Interstellar', 'Dunkirk', 'The Dark Knight', 'Memento']"
      ]
     },
     "execution_count": 12,
     "metadata": {},
     "output_type": "execute_result"
    }
   ],
   "source": [
    "new = [movie[\"title\"] for movie in movies]\n",
    "new\n",
    "\n",
    "a=[]\n",
    "for movie in movies:\n",
    "    a.append(movie[\"title\"])\n",
    "a"
   ]
  },
  {
   "cell_type": "code",
   "execution_count": 14,
   "metadata": {},
   "outputs": [
    {
     "name": "stdout",
     "output_type": "stream",
     "text": [
      "[4.6, 4.6, 3.8, 5.0, 4.4]\n"
     ]
    }
   ],
   "source": [
    "average_rating = [sum(movie[\"ratings\"]) / len((movie[\"ratings\"])) for movie in movies]\n",
    "print(average_rating)\n",
    "\n",
    "#{movies[\"title\"]:sum(movies[\"ratings\"]/len(movies[\"ratings\"]))}"
   ]
  },
  {
   "cell_type": "code",
   "execution_count": null,
   "metadata": {},
   "outputs": [
    {
     "data": {
      "text/plain": [
       "[{'title': 'Inception', 'ratings': [5, 4, 5, 4, 5], 'average': 4.6},\n",
       " {'title': 'Interstellar', 'ratings': [5, 5, 4, 5, 4], 'average': 4.6},\n",
       " {'title': 'Dunkirk', 'ratings': [4, 4, 4, 3, 4], 'average': 3.8},\n",
       " {'title': 'The Dark Knight', 'ratings': [5, 5, 5, 5, 5], 'average': 5.0},\n",
       " {'title': 'Memento', 'ratings': [4, 5, 4, 5, 4], 'average': 4.4}]"
      ]
     },
     "execution_count": 21,
     "metadata": {},
     "output_type": "execute_result"
    }
   ],
   "source": [
    "# adding average rating to the dictionary\n",
    "\n",
    "new_list=[{**existing,\"average\":sum(existing[\"ratings\"]) / len((existing[\"ratings\"]))}for existing in movies]\n",
    "new_list"
   ]
  },
  {
   "cell_type": "code",
   "execution_count": 22,
   "metadata": {},
   "outputs": [
    {
     "data": {
      "text/plain": [
       "['Inception', 'Interstellar', 'The Dark Knight']"
      ]
     },
     "execution_count": 22,
     "metadata": {},
     "output_type": "execute_result"
    }
   ],
   "source": [
    "\n",
    "high_rated= [movie['title'] for movie in new_list if movie['average']>=4.6]\n",
    "\n",
    "high_rated"
   ]
  },
  {
   "cell_type": "code",
   "execution_count": 30,
   "metadata": {},
   "outputs": [
    {
     "data": {
      "text/plain": [
       "{'2': 4,\n",
       " '4': 16,\n",
       " '6': 36,\n",
       " '8': 64,\n",
       " '10': 100,\n",
       " '12': 144,\n",
       " '14': 196,\n",
       " '16': 256,\n",
       " '18': 324,\n",
       " '20': 400,\n",
       " '22': 484,\n",
       " '24': 576}"
      ]
     },
     "execution_count": 30,
     "metadata": {},
     "output_type": "execute_result"
    }
   ],
   "source": [
    "# Task\n",
    "# Creating the below dictionary with for loop\n",
    "\n",
    "#{\"1\": 1, \"2\": 4, \"3\": 9, \"4\": 16, \"5\": 25}\n",
    "dict={}\n",
    "\n",
    "for i in range(1,6):\n",
    "    dict[i]=i*i\n",
    "dict\n",
    "\n",
    "num ={str(a):a*a for a in range(1,25) if a%2==0}\n",
    "num"
   ]
  },
  {
   "cell_type": "code",
   "execution_count": 32,
   "metadata": {},
   "outputs": [
    {
     "data": {
      "text/plain": [
       "{1: 'odd',\n",
       " 2: 'even',\n",
       " 3: 'odd',\n",
       " 4: 'even',\n",
       " 5: 'odd',\n",
       " 6: 'even',\n",
       " 7: 'odd',\n",
       " 8: 'even',\n",
       " 9: 'odd',\n",
       " 10: 'even'}"
      ]
     },
     "execution_count": 32,
     "metadata": {},
     "output_type": "execute_result"
    }
   ],
   "source": [
    "# Task 1.1\n",
    "\n",
    "# Expected Output:\n",
    "# {1: 'odd', 2: 'even', 3: 'odd', 4: 'even', 5: 'odd', 6: 'even', 7: 'odd', 8: 'even', 9: 'odd', 10: 'even'}\n",
    "num = {a: \"odd\" if a % 2 != 0 else \"even\" for a in range(1, 11)}\n",
    "\n",
    "num"
   ]
  },
  {
   "cell_type": "code",
   "execution_count": 34,
   "metadata": {},
   "outputs": [
    {
     "name": "stdout",
     "output_type": "stream",
     "text": [
      "['banana', 'orange', 'kiwi']\n"
     ]
    }
   ],
   "source": [
    "### Task 1.2: Filtering Fruits by Price\n",
    "\n",
    "#Given a dictionary of fruits with their prices, filter it to include only fruits priced above 2.\n",
    "\n",
    "fruits = {'apple': 1.2, 'banana': 2.5, 'orange': 3.0, 'kiwi': 4.0}\n",
    "\n",
    "#high_rated = [fruit[\"title\"] for fruit in fruits if fruit[\"price\"] >= 2]\n",
    "\n",
    "high_rated = [fruit for fruit, price in fruits.items() if price >= 2]\n",
    "print(high_rated)"
   ]
  },
  {
   "cell_type": "code",
   "execution_count": 43,
   "metadata": {},
   "outputs": [
    {
     "name": "stdout",
     "output_type": "stream",
     "text": [
      "apple 1.2\n",
      "banana 2.5\n",
      "orange 3.0\n",
      "kiwi 4.0\n",
      "{'banana': 2.5, 'orange': 3.0, 'kiwi': 4.0}\n"
     ]
    }
   ],
   "source": [
    "for key, val in fruits.items():\n",
    "    print(key,fruits[key])\n",
    "\n",
    "#output=[fruit: fruits[fruit] for fruit in fruits if fruits[fruit]>=2]\n",
    "output = {fruit: fruits[fruit] for fruit in fruits if fruits[fruit] >= 2}\n",
    "\n",
    "print(output)"
   ]
  },
  {
   "cell_type": "code",
   "execution_count": null,
   "metadata": {},
   "outputs": [],
   "source": [
    "### Task 1.3: Employee ID to Name Mapping\n",
    "\n",
    "#Given a list of employee dictionaries, create a dictionary mapping each employee's ID to their name.\n",
    "\n",
    "employees = [\n",
    "    {\"id\": 101, \"name\": \"Alice\", \"age\": 30},\n",
    "    {\"id\": 102, \"name\": \"Bob\", \"age\": 25},\n",
    "    {\"id\": 103, \"name\": \"Charlie\", \"age\": 35}\n",
    "]\n",
    "\n",
    "employee_dict = {employee[\"id\"]: employee[\"name\"] for employee in employees}\n",
    "print(employee_dict)\n",
    "\n",
    "filtr_employee=[employee[\"id\"]: employee[\"age\"] for employee in employees if \"age\"]"
   ]
  }
 ],
 "metadata": {
  "kernelspec": {
   "display_name": "Python 3",
   "language": "python",
   "name": "python3"
  },
  "language_info": {
   "codemirror_mode": {
    "name": "ipython",
    "version": 3
   },
   "file_extension": ".py",
   "mimetype": "text/x-python",
   "name": "python",
   "nbconvert_exporter": "python",
   "pygments_lexer": "ipython3",
   "version": "3.10.2"
  }
 },
 "nbformat": 4,
 "nbformat_minor": 2
}
