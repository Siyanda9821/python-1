{
 "cells": [
  {
   "cell_type": "code",
   "execution_count": 7,
   "metadata": {},
   "outputs": [],
   "source": [
    "guests = [{\n",
    "    \"name\": \"Alice\",\n",
    "    \"age\": 25,\n",
    "    \"code\": \"VIP123\"\n",
    "}, {\n",
    "    \"name\": \"Bob\",\n",
    "    \"age\": 17,\n",
    "    \"code\": \"VIP123\"\n",
    "}, {\n",
    "    \"name\": \"Charlie\",\n",
    "    \"age\": 30,\n",
    "    \"code\": \"VIP123\"\n",
    "}, {\n",
    "    \"name\": \"Dave\",\n",
    "    \"age\": 22,\n",
    "    \"code\": \"GUEST\"\n",
    "}, {\n",
    "    \"name\": \"Eve\",\n",
    "    \"age\": 29,\n",
    "    \"code\": \"VIP123\"\n",
    "}]\n",
    "\n",
    "\n",
    "\n",
    "blacklist = [\"Dave\", \"Eve\"]\n",
    "\n",
    "# Task\n",
    "# People who are 21 or above and VIP123\n",
    "# Blacklist are not allowed\n",
    "\n",
    "\n",
    "PASS_CODE = \"VIP123\"\n",
    "\n",
    "guestlist = [] # ?"
   ]
  },
  {
   "cell_type": "code",
   "execution_count": 8,
   "metadata": {},
   "outputs": [
    {
     "data": {
      "text/plain": [
       "['Alice', 'Charlie']"
      ]
     },
     "execution_count": 8,
     "metadata": {},
     "output_type": "execute_result"
    }
   ],
   "source": [
    "for guest in guests:\n",
    "    if guest[\"age\"]>=21 and guest[\"code\"]==PASS_CODE:\n",
    "        if guest[\"name\"] not in blacklist:\n",
    "            guestlist.append(guest[\"name\"])\n",
    "guestlist"
   ]
  },
  {
   "cell_type": "code",
   "execution_count": 11,
   "metadata": {},
   "outputs": [
    {
     "data": {
      "text/plain": [
       "['Alice', 'Charlie']"
      ]
     },
     "execution_count": 11,
     "metadata": {},
     "output_type": "execute_result"
    }
   ],
   "source": [
    "new_list= [guest[\"name\"] for guest in guests if guest[\"age\"]>=25 and guest[\"code\"]==PASS_CODE and guest[\"name\"] not in blacklist]\n",
    "new_list"
   ]
  },
  {
   "cell_type": "code",
   "execution_count": 13,
   "metadata": {},
   "outputs": [],
   "source": [
    "# Task 2 (Challenging)\n",
    "# Use nested dictionary comprehension to create a dictionary of restaurants with items under $10\n",
    "\n",
    "# Restaurant menus with emoji food items and prices\n",
    "restaurant_menus = [\n",
    "    {\n",
    "        \"restaurant\": \"Italian Place\",\n",
    "        \"menu\": {\"🍕\": 12.99, \"🍝\": 10.99, \"🥖\": 3.99, \"🥗\": 7.99},\n",
    "    },\n",
    "    {\n",
    "        \"restaurant\": \"Burger Joint\",\n",
    "        \"menu\": {\"🍔\": 8.99, \"🍟\": 3.99, \"🥤\": 1.99, \"🍦\": 4.99},\n",
    "    },\n",
    "    {\n",
    "        \"restaurant\": \"Sushi Bar\",\n",
    "        \"menu\": {\"🍣\": 15.99, \"🍜\": 12.99, \"🍙\": 6.99, \"🍶\": 9.99},\n",
    "    },\n",
    "    {\n",
    "        \"restaurant\": \"Health Spot\",\n",
    "        \"menu\": {\"🥗\": 9.99, \"🥙\": 8.99, \"🥑\": 4.99, \"🥝\": 3.99},\n",
    "    },\n",
    "]\n",
    "\n",
    "\n",
    "# # Expected output\n",
    "# # Output\n",
    "# {\n",
    "#     \"Italian Place\": {\"🥖\": 3.99, \"🥗\": 7.99},\n",
    "#     \"Burger Joint\": {\"🍔\": 8.99, \"🍟\": 3.99, \"🥤\": 1.99, \"🍦\": 4.99},\n",
    "#     \"Sushi Bar\": {\"🍙\": 6.99},\n",
    "#     \"Health Spot\": {\"🥙\": 8.99, \"🥑\": 4.99, \"🥝\": 3.99},\n",
    "# }\n"
   ]
  },
  {
   "cell_type": "code",
   "execution_count": null,
   "metadata": {},
   "outputs": [
    {
     "name": "stdout",
     "output_type": "stream",
     "text": [
      "Italian Place: {'🥖': 3.99, '🥗': 7.99}\n",
      "Burger Joint: {'🍔': 8.99, '🍟': 3.99, '🥤': 1.99, '🍦': 4.99}\n",
      "Sushi Bar: {'🍙': 6.99, '🍶': 9.99}\n",
      "Health Spot: {'🥗': 9.99, '🥙': 8.99, '🥑': 4.99, '🥝': 3.99}\n"
     ]
    }
   ],
   "source": [
    "for restaurant in restaurant_menus:\n",
    "\n",
    "    under_10 = {\n",
    "        item: price for item, price in restaurant[\"menu\"].items() if price < 10\n",
    "    }\n",
    "    print(f'{restaurant[\"restaurant\"]}: {under_10}')\n",
    "#print(under_10)\n"
   ]
  },
  {
   "cell_type": "code",
   "execution_count": null,
   "metadata": {},
   "outputs": [
    {
     "name": "stdout",
     "output_type": "stream",
     "text": [
      "True\n",
      "True\n"
     ]
    },
    {
     "data": {
      "text/plain": [
       "[100, 200]"
      ]
     },
     "execution_count": 50,
     "metadata": {},
     "output_type": "execute_result"
    }
   ],
   "source": [
    "t1=[100,200]\n",
    "t2=[100,200]\n",
    "t3=t1\n",
    "\n",
    "print(t1==t2)\n",
    "print(t1 == t3)"
   ]
  },
  {
   "cell_type": "code",
   "execution_count": 54,
   "metadata": {},
   "outputs": [
    {
     "name": "stdout",
     "output_type": "stream",
     "text": [
      "None\n"
     ]
    }
   ],
   "source": [
    "def add(a,b):\n",
    "    c=(a+b)\n",
    "    #return c\n",
    "    c\n",
    "\n",
    "\n",
    "c1=add(1,4)\n",
    "print(c1)"
   ]
  },
  {
   "cell_type": "code",
   "execution_count": 78,
   "metadata": {},
   "outputs": [
    {
     "data": {
      "text/plain": [
       "'Hi siyanda ! 👋'"
      ]
     },
     "execution_count": 78,
     "metadata": {},
     "output_type": "execute_result"
    }
   ],
   "source": [
    "def greet(a):\n",
    "    return (f\"Hi {a} ! 👋\")\n",
    "\n",
    "\n",
    "c1=greet(\"siyanda\")\n",
    "c1"
   ]
  },
  {
   "cell_type": "code",
   "execution_count": 76,
   "metadata": {},
   "outputs": [
    {
     "data": {
      "text/plain": [
       "' siyanda is eligible for driving'"
      ]
     },
     "execution_count": 76,
     "metadata": {},
     "output_type": "execute_result"
    }
   ],
   "source": [
    "def driving_test(a,b):\n",
    "    if b<17:\n",
    "        return (f\"Try again after a few years 👶🍼\")\n",
    "    else:\n",
    "        return (f\" {a} is eligible for driving\")\n",
    "\n",
    "\n",
    "c1=driving_test(\"siyanda\",17)\n",
    "c1"
   ]
  },
  {
   "cell_type": "code",
   "execution_count": null,
   "metadata": {},
   "outputs": [
    {
     "name": "stdout",
     "output_type": "stream",
     "text": [
      "🍼\n",
      "🍼🍼\n",
      "🍼🍼🍼\n",
      "🍼🍼🍼🍼\n",
      "🍼🍼🍼🍼🍼\n"
     ]
    }
   ],
   "source": [
    "def patter(a, b):\n",
    "    for s in range(1, b + 1):\n",
    "        print(a * s)\n",
    "    return\n",
    "\n",
    "\n",
    "c1 = patter(\"🍼\", 5)"
   ]
  },
  {
   "cell_type": "code",
   "execution_count": null,
   "metadata": {},
   "outputs": [
    {
     "name": "stdout",
     "output_type": "stream",
     "text": [
      " Hi A! 👋\n",
      " Hi B! 👋\n",
      " Hi C! 👋\n",
      " Hi D! 👋\n"
     ]
    }
   ],
   "source": [
    "def greet(name):\n",
    "    for name in names:\n",
    "        print (f\" Hi {name}! 👋\")\n",
    "\n",
    "names=[\"A\",\"B\",\"C\",\"D\"]\n",
    "\n",
    "\n",
    "greet(names)\n"
   ]
  },
  {
   "cell_type": "markdown",
   "metadata": {},
   "source": [
    "## New concept"
   ]
  },
  {
   "cell_type": "code",
   "execution_count": 87,
   "metadata": {},
   "outputs": [],
   "source": [
    "library_list = [\n",
    "    {\n",
    "        \"title\": \"Python Programming\",\n",
    "        \"author\": \"Eric Matthes\",\n",
    "        \"year\": 2019,\n",
    "        \"available\": True,\n",
    "    },\n",
    "    {\n",
    "        \"title\": \"Automate the Boring Stuff with Python\",\n",
    "        \"author\": \"Al Sweigart\",\n",
    "        \"year\": 2020,\n",
    "        \"available\": True,\n",
    "    },\n",
    "    {\n",
    "        \"title\": \"Learning Python I\",\n",
    "        \"author\": \"Mark Lutz\",\n",
    "        \"year\": 2013,\n",
    "        \"available\": False,\n",
    "    },\n",
    "    {\n",
    "        \"title\": \"Fluent Python\",\n",
    "        \"author\": \"Luciano Ramalho\",\n",
    "        \"year\": 2015,\n",
    "        \"available\": True,\n",
    "    },\n",
    "    {\n",
    "        \"title\": \"Adavance Python\",\n",
    "        \"author\": \"Mark Lutz\",\n",
    "        \"year\": 2015,\n",
    "        \"available\": False,\n",
    "    },\n",
    "]\n"
   ]
  },
  {
   "cell_type": "code",
   "execution_count": null,
   "metadata": {},
   "outputs": [],
   "source": [
    "# Output\n",
    "# Welcome to our Library app\n",
    "# Main menu:\n",
    "# 1. Add book to the library\n",
    "# 2. Print all the books\n",
    "# 3. Exit\n",
    "\n",
    "# Please choose an option: 1\n",
    "# Please tell me the title?\n",
    "# Please tell me the author?\n",
    "# Please tell me the year?\n",
    "# Please tell me the available?\n",
    "\n",
    "# Successfully added 😄✅\n"
   ]
  },
  {
   "cell_type": "code",
   "execution_count": null,
   "metadata": {},
   "outputs": [],
   "source": [
    "book = {}\n",
    "\n",
    "def add(title,author,year,available):\n",
    "\n",
    "    title_ = input(\"Enter the name of the title: \")\n",
    "    print(input(\"Enter the name of the title: \"))\n",
    "\n",
    "    author_ =input(\"Enter the name of the author: \")\n",
    "    print(input(\"Enter the name of the author: \"))\n",
    "\n",
    "    year_ = input(\"Enter the name of the year: \")\n",
    "    print(input(\"Enter the name of the year: \"))\n",
    "\n",
    "    availability_ =input(\"Enter the name of the available: \")\n",
    "    print(input(\"Enter the name of the available: \"))\n",
    "\n",
    "    book={title:title_,author:author_,year:year_,available:availability_}\n",
    "\n",
    "\n",
    "    library_list.append(book)\n",
    "\n",
    "ansa = input(\"what: \")\n",
    "if ansa == a:\n",
    "    add()\n"
   ]
  }
 ],
 "metadata": {
  "kernelspec": {
   "display_name": "Python 3",
   "language": "python",
   "name": "python3"
  },
  "language_info": {
   "codemirror_mode": {
    "name": "ipython",
    "version": 3
   },
   "file_extension": ".py",
   "mimetype": "text/x-python",
   "name": "python",
   "nbconvert_exporter": "python",
   "pygments_lexer": "ipython3",
   "version": "3.10.2"
  }
 },
 "nbformat": 4,
 "nbformat_minor": 2
}
