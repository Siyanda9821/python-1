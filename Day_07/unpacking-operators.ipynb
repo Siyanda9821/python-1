{
 "cells": [
  {
   "cell_type": "code",
   "execution_count": 1,
   "metadata": {},
   "outputs": [
    {
     "name": "stdout",
     "output_type": "stream",
     "text": [
      "80 [90, 70, 45]\n"
     ]
    }
   ],
   "source": [
    "m1, *t1, m2 =[80,90,70,45,95]\n",
    "\n",
    "print(m1, t1)"
   ]
  },
  {
   "cell_type": "code",
   "execution_count": 2,
   "metadata": {},
   "outputs": [
    {
     "data": {
      "text/plain": [
       "[100, 200, 300, 400]"
      ]
     },
     "execution_count": 2,
     "metadata": {},
     "output_type": "execute_result"
    }
   ],
   "source": [
    "t1=[100,200]\n",
    "t2=[300,400]\n",
    "t3=t1+t2\n",
    "t3"
   ]
  },
  {
   "cell_type": "code",
   "execution_count": 8,
   "metadata": {},
   "outputs": [
    {
     "name": "stdout",
     "output_type": "stream",
     "text": [
      "[100, 200, 300, 400]\n"
     ]
    }
   ],
   "source": [
    "t1 = [100, 200]\n",
    "t2 = [300, 400]\n",
    "\n",
    "t1.extend(t2)\n",
    "print(t1)"
   ]
  },
  {
   "cell_type": "code",
   "execution_count": null,
   "metadata": {},
   "outputs": [
    {
     "data": {
      "text/plain": [
       "[[300, 400], 100, 200, 50, 300, 400]"
      ]
     },
     "execution_count": 10,
     "metadata": {},
     "output_type": "execute_result"
    }
   ],
   "source": [
    "t1 = [100, 200]\n",
    "t2 = [300, 400]\n",
    "t3 = [t2,*t1, 50] + t2 # * - unpacking operator\n",
    "t3"
   ]
  },
  {
   "cell_type": "code",
   "execution_count": 13,
   "metadata": {},
   "outputs": [
    {
     "data": {
      "text/plain": [
       "list"
      ]
     },
     "execution_count": 13,
     "metadata": {},
     "output_type": "execute_result"
    }
   ],
   "source": [
    "t1 = [100, 200]\n",
    "t2 = [300, 400]\n",
    "t3 = [*t2, *t1]  # * - unpacking operator\n",
    "t3\n",
    "type(t3)"
   ]
  },
  {
   "cell_type": "code",
   "execution_count": 15,
   "metadata": {},
   "outputs": [
    {
     "data": {
      "text/plain": [
       "([1, '🍇'], [10, '\\U0001fadb'], [8, '🫑', 'T'])"
      ]
     },
     "execution_count": 15,
     "metadata": {},
     "output_type": "execute_result"
    }
   ],
   "source": [
    "veggie = ([1, \"🍇\"], [2, \"🫛\"], [8, \"🫑\"])\n",
    "veggie[1][0]=10\n",
    "veggie[2].append(\"T\")\n",
    "veggie"
   ]
  },
  {
   "cell_type": "code",
   "execution_count": null,
   "metadata": {},
   "outputs": [
    {
     "data": {
      "text/plain": [
       "{'Country', 'age', 'job', 'name'}"
      ]
     },
     "execution_count": 18,
     "metadata": {},
     "output_type": "execute_result"
    }
   ],
   "source": [
    "student = {\"name\": \"jamie\", \"age\": 20}\n",
    "detail = {\"job\": \"Sanlam\", \"Country\": \"SA\"}\n",
    "## only gives the keys\n",
    "all_detail = {*student, *detail}\n",
    "all_detail"
   ]
  },
  {
   "cell_type": "code",
   "execution_count": 17,
   "metadata": {},
   "outputs": [
    {
     "data": {
      "text/plain": [
       "{'name': 'jamie', 'age': 20, 'job': 'Sanlam', 'Country': 'SA'}"
      ]
     },
     "execution_count": 17,
     "metadata": {},
     "output_type": "execute_result"
    }
   ],
   "source": [
    "student ={ \"name\":\"jamie\", \"age\":20\n",
    "\n",
    "}\n",
    "detail={\n",
    "    \"job\":\"Sanlam\", \"Country\":\"SA\"\n",
    "}\n",
    "\n",
    "all_detail={**student,**detail}\n",
    "all_detail"
   ]
  },
  {
   "cell_type": "code",
   "execution_count": null,
   "metadata": {},
   "outputs": [
    {
     "data": {
      "text/plain": [
       "{'name': 'jamie', 'age': 125, 'job': 'Sanlam', 'Country': 'SA'}"
      ]
     },
     "execution_count": 22,
     "metadata": {},
     "output_type": "execute_result"
    }
   ],
   "source": [
    "##Rule: all keys are unique\n",
    "student = {\"name\": \"jamie\", \"age\": 200}\n",
    "detail = {\"job\": \"Sanlam\", \"Country\": \"SA\",\"age\":125}\n",
    "\n",
    "all_detail = {**student, **detail} ## The order of unpacking determines which age will be taken, last one overrides previous values\n",
    "all_detail\n"
   ]
  },
  {
   "cell_type": "code",
   "execution_count": 23,
   "metadata": {},
   "outputs": [
    {
     "data": {
      "text/plain": [
       "{'name': 'jamie', 'age': 17, 'job': 'Sanlam', 'Country': 'SA'}"
      ]
     },
     "execution_count": 23,
     "metadata": {},
     "output_type": "execute_result"
    }
   ],
   "source": [
    "##Rule: all keys are unique\n",
    "student = {\"name\": \"jamie\", \"age\": 200}\n",
    "detail = {\"job\": \"Sanlam\", \"Country\": \"SA\", \"age\": 125}\n",
    "\n",
    "all_detail = {\n",
    "    **student,\n",
    "    **detail, \"age\":17\n",
    "}  ## The order of unpacking determines which age will be taken, last one overrides previous values\n",
    "all_detail\n"
   ]
  },
  {
   "cell_type": "markdown",
   "metadata": {},
   "source": [
    "### Because we know the last one overrides, we can have default value can be used incase something isn't there."
   ]
  }
 ],
 "metadata": {
  "kernelspec": {
   "display_name": "Python 3",
   "language": "python",
   "name": "python3"
  },
  "language_info": {
   "codemirror_mode": {
    "name": "ipython",
    "version": 3
   },
   "file_extension": ".py",
   "mimetype": "text/x-python",
   "name": "python",
   "nbconvert_exporter": "python",
   "pygments_lexer": "ipython3",
   "version": "3.10.2"
  }
 },
 "nbformat": 4,
 "nbformat_minor": 2
}
