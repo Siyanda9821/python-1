{
 "cells": [
  {
   "cell_type": "code",
   "execution_count": 1,
   "metadata": {},
   "outputs": [],
   "source": [
    "import numpy as np"
   ]
  },
  {
   "cell_type": "markdown",
   "metadata": {},
   "source": [
    "## Statistical oriented- mean, median, mode, std\n",
    "\n",
    "- mean ->Average\n",
    "- mode->The most repeated number \n",
    "- median -> the middle num, values should be in ascending order \n",
    "- std\n"
   ]
  },
  {
   "cell_type": "code",
   "execution_count": 2,
   "metadata": {},
   "outputs": [
    {
     "name": "stdout",
     "output_type": "stream",
     "text": [
      "[46 62 52 46 43 99 81 53 94 85]\n"
     ]
    }
   ],
   "source": [
    "marks=np.random.randint(40,100,10)\n",
    "print(marks)"
   ]
  },
  {
   "cell_type": "code",
   "execution_count": 4,
   "metadata": {},
   "outputs": [
    {
     "name": "stdout",
     "output_type": "stream",
     "text": [
      "66.1\n"
     ]
    }
   ],
   "source": [
    "print(marks.mean())"
   ]
  },
  {
   "cell_type": "code",
   "execution_count": 5,
   "metadata": {},
   "outputs": [
    {
     "name": "stdout",
     "output_type": "stream",
     "text": [
      "57.5\n"
     ]
    }
   ],
   "source": [
    "print(np.median(marks))"
   ]
  },
  {
   "cell_type": "code",
   "execution_count": 6,
   "metadata": {},
   "outputs": [
    {
     "name": "stdout",
     "output_type": "stream",
     "text": [
      "20.417884317431128\n"
     ]
    }
   ],
   "source": [
    "print(marks.std())"
   ]
  },
  {
   "cell_type": "code",
   "execution_count": 7,
   "metadata": {},
   "outputs": [
    {
     "name": "stdout",
     "output_type": "stream",
     "text": [
      "20.417884317431128\n"
     ]
    }
   ],
   "source": [
    "print(np.std(marks))"
   ]
  },
  {
   "cell_type": "code",
   "execution_count": null,
   "metadata": {},
   "outputs": [
    {
     "name": "stdout",
     "output_type": "stream",
     "text": [
      "year1 = R1050.0\n",
      "year2 = R1102.5\n",
      "year3 = R1157.625\n",
      "year4 = R1215.5062500000001\n",
      "year5 = R1276.2815625000003\n",
      "year6 = R1340.0956406250004\n",
      "year7 = R1407.1004226562504\n",
      "year8 = R1477.455443789063\n",
      "year9 = R1551.3282159785163\n",
      "year10 = R1628.8946267774422\n"
     ]
    }
   ],
   "source": [
    "P = 1000\n",
    "i = 1\n",
    "while i < 11:\n",
    "    P = P * 1.05\n",
    "    print(f\"year{i} = R{P}\")\n",
    "    i += 1\n"
   ]
  },
  {
   "cell_type": "code",
   "execution_count": 15,
   "metadata": {},
   "outputs": [
    {
     "name": "stdout",
     "output_type": "stream",
     "text": [
      "[1050.         1102.5        1157.625      1215.50625    1276.2815625\n",
      " 1340.09564063 1407.10042266 1477.45544379 1551.32821598 1628.89462678]\n"
     ]
    }
   ],
   "source": [
    "investment_amount = 1_000\n",
    "interest_rate = 1.05\n",
    "num_years = np.arange(1, 11)\n",
    "\n",
    "\n",
    "amount = investment_amount * interest_rate** num_years\n",
    "\n",
    "print(amount)\n"
   ]
  },
  {
   "cell_type": "code",
   "execution_count": 19,
   "metadata": {},
   "outputs": [
    {
     "name": "stdout",
     "output_type": "stream",
     "text": [
      "At the end of the 10th year the balance will be: R1628.89\n"
     ]
    }
   ],
   "source": [
    "print(f\"At the end of the 10th year the balance will be: R{round(amount[-1],2)}\")"
   ]
  },
  {
   "cell_type": "code",
   "execution_count": 26,
   "metadata": {},
   "outputs": [
    {
     "name": "stdout",
     "output_type": "stream",
     "text": [
      "62.8894626777442\n"
     ]
    }
   ],
   "source": [
    "a=((amount[-1])/(investment_amount)-1)*100\n",
    "print(a)"
   ]
  },
  {
   "cell_type": "code",
   "execution_count": null,
   "metadata": {},
   "outputs": [
    {
     "name": "stdout",
     "output_type": "stream",
     "text": [
      "At the end of the 10th year the balance will be: 1628.8946267774422\n"
     ]
    }
   ],
   "source": [
    "### Task 2\n",
    "\n",
    "\n",
    "\n",
    "P = 1000\n",
    "i = 1\n",
    "while i < 11:\n",
    "    P = P * 1.05\n",
    "    #print(f\"year{i} = R{P}\")\n",
    "    i += 1\n",
    "print(f\"At the end of the 10th year the balance will be: {P}\")"
   ]
  },
  {
   "cell_type": "code",
   "execution_count": 14,
   "metadata": {},
   "outputs": [
    {
     "name": "stdout",
     "output_type": "stream",
     "text": [
      "1.6288946267774422\n"
     ]
    }
   ],
   "source": [
    "print((P/1000))"
   ]
  },
  {
   "cell_type": "code",
   "execution_count": 27,
   "metadata": {},
   "outputs": [
    {
     "data": {
      "text/plain": [
       "array([1, 3, 3, 3, 1, 2, 3, 3, 2, 3], dtype=int32)"
      ]
     },
     "execution_count": 27,
     "metadata": {},
     "output_type": "execute_result"
    }
   ],
   "source": [
    "num=np.random.randint(1,4,10)\n",
    "num"
   ]
  },
  {
   "cell_type": "code",
   "execution_count": 32,
   "metadata": {},
   "outputs": [
    {
     "data": {
      "text/plain": [
       "array([3, 2, 3, 3, 2, 1, 3, 3, 3, 1], dtype=int32)"
      ]
     },
     "execution_count": 32,
     "metadata": {},
     "output_type": "execute_result"
    }
   ],
   "source": [
    "np.flip(num)"
   ]
  },
  {
   "cell_type": "markdown",
   "metadata": {},
   "source": [
    "## Task 1\n",
    " \n",
    "hourly_visitors = [468, 279,  73, 272 ,406 ,128 ,302 ,216, 140, 82]\n",
    " \n",
    "- 1.1 Total visitors in the day?\n",
    "- 1.2 Which is the peak hour?\n",
    "- 1.3 On average how many people visit per hour\n",
    " \n",
    "### Output\n",
    "```\n",
    "Total visitors in the day: 2366\n",
    "Peak hour: 1\n",
    "Average people visit: 237\n",
    "```"
   ]
  },
  {
   "cell_type": "code",
   "execution_count": 33,
   "metadata": {},
   "outputs": [],
   "source": [
    "hourly_visitors = [468, 279, 73, 272, 406, 128, 302, 216, 140, 82]\n"
   ]
  },
  {
   "cell_type": "code",
   "execution_count": null,
   "metadata": {},
   "outputs": [
    {
     "name": "stdout",
     "output_type": "stream",
     "text": [
      "Total visitors in a day: 2366\n",
      "Peak hour: 1\n",
      "Average people visit: 237\n"
     ]
    }
   ],
   "source": [
    "a=sum(hourly_visitors)\n",
    "print(f\"Total visitors in a day: {a}\")\n",
    "\n",
    "b=np.argmax(hourly_visitors)+1\n",
    "print(f\"Peak hour: {b}\")\n",
    "\n",
    "c=round(np.mean(hourly_visitors))\n",
    "print(f\"Average people visit: {c}\")\n"
   ]
  },
  {
   "cell_type": "markdown",
   "metadata": {},
   "source": [
    "## Task 2\n",
    "Normalize the Array:\n",
    " \n",
    "- 2.1 Trim leading and trailing spaces.\n",
    "- 2.2 Convert all items to lowercase.\n",
    "- 2.3 Ensure there are no duplicate items in the array."
   ]
  },
  {
   "cell_type": "code",
   "execution_count": 42,
   "metadata": {},
   "outputs": [],
   "source": [
    "items = np.array(\n",
    "    [\n",
    "        \" Apple\",\n",
    "        \"banana \",\n",
    "        \"GRAPE\",\n",
    "        \"cucumber\",\n",
    "        \"Pineapple\",\n",
    "        \" tomato \",\n",
    "        \"Orange\",\n",
    "        \" lemon\",\n",
    "        \"Kiwi \",\n",
    "        \"mango\",\n",
    "        \"blueberry \",\n",
    "        \" raspberry\",\n",
    "    ]\n",
    ")\n"
   ]
  },
  {
   "cell_type": "code",
   "execution_count": 51,
   "metadata": {},
   "outputs": [
    {
     "data": {
      "text/plain": [
       "array(['Apple', 'banana', 'GRAPE', 'cucumber', 'Pineapple', 'tomato',\n",
       "       'Orange', 'lemon', 'Kiwi', 'mango', 'blueberry', 'raspberry'],\n",
       "      dtype='<U10')"
      ]
     },
     "execution_count": 51,
     "metadata": {},
     "output_type": "execute_result"
    }
   ],
   "source": [
    "items1=np.char.strip(items)\n",
    "items1"
   ]
  },
  {
   "cell_type": "code",
   "execution_count": 52,
   "metadata": {},
   "outputs": [
    {
     "data": {
      "text/plain": [
       "array([' apple', 'banana ', 'grape', 'cucumber', 'pineapple', ' tomato ',\n",
       "       'orange', ' lemon', 'kiwi ', 'mango', 'blueberry ', ' raspberry'],\n",
       "      dtype='<U10')"
      ]
     },
     "execution_count": 52,
     "metadata": {},
     "output_type": "execute_result"
    }
   ],
   "source": [
    "items1=np.char.lower(items)\n",
    "items1"
   ]
  },
  {
   "cell_type": "code",
   "execution_count": 47,
   "metadata": {},
   "outputs": [
    {
     "data": {
      "text/plain": [
       "array([' apple', ' lemon', ' raspberry', ' tomato ', 'banana ',\n",
       "       'blueberry ', 'cucumber', 'grape', 'kiwi ', 'mango', 'orange',\n",
       "       'pineapple'], dtype='<U10')"
      ]
     },
     "execution_count": 47,
     "metadata": {},
     "output_type": "execute_result"
    }
   ],
   "source": [
    "np.unique(items1)"
   ]
  },
  {
   "cell_type": "markdown",
   "metadata": {},
   "source": [
    "## Task 3 (Challenging)\n",
    "Filtering Operations:\n",
    "- 3.1 Find and display all items that start with the letter 'b'.\n",
    "- 3.2 Find and display all items that contain the letter 'e' exactly once."
   ]
  },
  {
   "cell_type": "code",
   "execution_count": 56,
   "metadata": {},
   "outputs": [
    {
     "data": {
      "text/plain": [
       "array(['apple', 'banana', 'grape', 'cucumber', 'pineapple', 'tomato',\n",
       "       'orange', 'lemon', 'kiwi', 'mango', 'blueberry', 'raspberry'],\n",
       "      dtype='<U10')"
      ]
     },
     "execution_count": 56,
     "metadata": {},
     "output_type": "execute_result"
    }
   ],
   "source": [
    "new=np.char.strip(items1)\n",
    "new"
   ]
  },
  {
   "cell_type": "code",
   "execution_count": 57,
   "metadata": {},
   "outputs": [
    {
     "data": {
      "text/plain": [
       "array(['apple', 'banana', 'grape', 'cucumber', 'pineapple', 'tomato',\n",
       "       'orange', 'lemon', 'kiwi', 'mango', 'blueberry', 'raspberry'],\n",
       "      dtype='<U10')"
      ]
     },
     "execution_count": 57,
     "metadata": {},
     "output_type": "execute_result"
    }
   ],
   "source": [
    "new"
   ]
  },
  {
   "cell_type": "code",
   "execution_count": 62,
   "metadata": {},
   "outputs": [
    {
     "name": "stdout",
     "output_type": "stream",
     "text": [
      "['banana' 'blueberry']\n"
     ]
    }
   ],
   "source": [
    "print(new[np.char.startswith(new, \"b\")])"
   ]
  },
  {
   "cell_type": "code",
   "execution_count": 67,
   "metadata": {},
   "outputs": [
    {
     "name": "stdout",
     "output_type": "stream",
     "text": [
      "['apple' 'grape' 'cucumber' 'pineapple' 'orange' 'lemon' 'blueberry'\n",
      " 'raspberry']\n"
     ]
    }
   ],
   "source": [
    "mask = np.char.count(new, \"e\") > 0\n",
    "print(new[mask])"
   ]
  },
  {
   "cell_type": "code",
   "execution_count": 68,
   "metadata": {},
   "outputs": [
    {
     "name": "stdout",
     "output_type": "stream",
     "text": [
      "['apple' 'grape' 'cucumber' 'orange' 'lemon' 'raspberry']\n"
     ]
    }
   ],
   "source": [
    "b = np.strings.count(new, \"e\")\n",
    "\n",
    "print(new[b == 1])\n"
   ]
  },
  {
   "cell_type": "markdown",
   "metadata": {},
   "source": [
    "## 2D Matrix/Array\n",
    "\n"
   ]
  },
  {
   "cell_type": "code",
   "execution_count": 69,
   "metadata": {},
   "outputs": [],
   "source": [
    "num3x3 = np.array([[1,3,4],\n",
    "                   [6,10,77],\n",
    "                   [9,20,24]\n",
    "\n",
    "\n",
    "])"
   ]
  },
  {
   "cell_type": "code",
   "execution_count": 70,
   "metadata": {},
   "outputs": [
    {
     "data": {
      "text/plain": [
       "(3, 3)"
      ]
     },
     "execution_count": 70,
     "metadata": {},
     "output_type": "execute_result"
    }
   ],
   "source": [
    "np.shape(num3x3)"
   ]
  },
  {
   "cell_type": "code",
   "execution_count": 72,
   "metadata": {},
   "outputs": [
    {
     "data": {
      "text/plain": [
       "array([[  2,   6,   8],\n",
       "       [ 12,  20, 154],\n",
       "       [ 18,  40,  48]])"
      ]
     },
     "execution_count": 72,
     "metadata": {},
     "output_type": "execute_result"
    }
   ],
   "source": [
    "num3x3 * 2"
   ]
  }
 ],
 "metadata": {
  "kernelspec": {
   "display_name": ".venv",
   "language": "python",
   "name": "python3"
  },
  "language_info": {
   "codemirror_mode": {
    "name": "ipython",
    "version": 3
   },
   "file_extension": ".py",
   "mimetype": "text/x-python",
   "name": "python",
   "nbconvert_exporter": "python",
   "pygments_lexer": "ipython3",
   "version": "3.13.2"
  }
 },
 "nbformat": 4,
 "nbformat_minor": 2
}
