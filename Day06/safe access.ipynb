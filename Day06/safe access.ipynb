{
 "cells": [
  {
   "cell_type": "code",
   "execution_count": 2,
   "metadata": {},
   "outputs": [
    {
     "name": "stdout",
     "output_type": "stream",
     "text": [
      "None\n"
     ]
    }
   ],
   "source": [
    "spiderman = {\n",
    "    \"name\": \"Peter Parker\",\n",
    "    \"age\": 18,\n",
    "    \"team_name\": \"Avengers\",\n",
    "    \"team\": [\"Iron Man\", \"Thor\", \"Hulk\", \"Captain America\"]\n",
    "}\n",
    "\n",
    "print(spiderman.get(\"height\"))\n"
   ]
  },
  {
   "cell_type": "markdown",
   "metadata": {},
   "source": [
    "### when nothing is present we get None\n",
    "#### safe access of value (doesn't return an error)\n",
    "`.get()`"
   ]
  },
  {
   "cell_type": "code",
   "execution_count": null,
   "metadata": {},
   "outputs": [
    {
     "name": "stdout",
     "output_type": "stream",
     "text": [
      "Brooklyn\n",
      "Top Secret\n",
      "Top Secret\n"
     ]
    }
   ],
   "source": [
    "captain_america = {\n",
    "    \"name\": \"Steve Rogers 🦸‍♂️\",\n",
    "    \"age\": 100,\n",
    "    \"height\": 185,\n",
    "    \"address\": {\"city\": \"Brooklyn\", \"country\": \"US\"},\n",
    "}\n",
    "\n",
    "\n",
    "spiderman = {\n",
    "    \"name\": \"Peter Parker\",\n",
    "    \"age\": 18,\n",
    "    \"team_name\": \"Avengers\",\n",
    "    \"team\": [\"Iron Man\", \"Thor\", \"Hulk\", \"Captain America\"],\n",
    "}\n",
    "\n",
    "hulk = {\n",
    "    \"name\": \"Bruce Banner\",\n",
    "    \"age\": 35,\n",
    "}\n",
    "\n",
    "heroes = [captain_america, spiderman, hulk]\n",
    "\n",
    "# Output\n",
    "# Steve Rogers 🦸‍♂️ lives in Brooklyn\n",
    "# Peter Parker location is Top Secret 🔒\n",
    "# Bruce Banner location is Top Secret 🔒\n",
    "\n",
    "\n",
    "for i in heroes:\n",
    "    print(i.get(\"address\",{}).get(\"city\",\"Top Secret\"))\n",
    "    print(f\"{i[\"name\"]}\")\n",
    "\n",
    "#print(heroes[])"
   ]
  },
  {
   "cell_type": "code",
   "execution_count": null,
   "metadata": {},
   "outputs": [
    {
     "name": "stdout",
     "output_type": "stream",
     "text": [
      "[{'name': 'Chleo', 'experience': 3}, {'name': 'Diyali', 'experience': 1}, {'name': 'Luvuyo', 'experience': 1}, {'name': 'Jevan', 'experience': 2}]\n"
     ]
    }
   ],
   "source": [
    "employees = [\n",
    "    {\"name\": \"Chleo\", \"experience\": 2},\n",
    "    {\"name\": \"Diyali\"},\n",
    "    {\"name\": \"Luvuyo\"},\n",
    "    {\"name\": \"Jevan\", \"experience\": 1},\n",
    "]\n",
    "\n",
    "for employee in employees:\n",
    "    employee[\"experience\"] = employee.get(\"experience\", 0) + 1\n",
    "\n",
    "print(employees)\n"
   ]
  },
  {
   "cell_type": "code",
   "execution_count": 11,
   "metadata": {},
   "outputs": [
    {
     "name": "stdout",
     "output_type": "stream",
     "text": [
      "[{'name': 'Chleo', 'experience': 5, 'level': 'Senior'}, {'name': 'Diyali', 'experience': 1, 'level': 'Junior'}, {'name': 'Luvuyo', 'experience': 1, 'level': 'Junior'}, {'name': 'Jevan', 'experience': 3, 'level': 'Mid'}]\n"
     ]
    }
   ],
   "source": [
    "employees = [\n",
    "    {\"name\": \"Chleo\", \"experience\": 4},\n",
    "    {\"name\": \"Diyali\"},\n",
    "    {\"name\": \"Luvuyo\"},\n",
    "    {\"name\": \"Jevan\", \"experience\": 2},\n",
    "]\n",
    "\n",
    "for employee in employees:\n",
    "    employee[\"experience\"] = employee.get(\"experience\", 0) + 1\n",
    "    if employee[\"experience\"]>=5:\n",
    "        employee[\"level\"] = \"Senior\"\n",
    "    elif employee[\"experience\"]<5 and employee[\"experience\"]>=3:\n",
    "        employee[\"level\"] = \"Mid\"\n",
    "    else:\n",
    "        employee[\"level\"] = \"Junior\"\n",
    "\n",
    "print(employees)\n"
   ]
  }
 ],
 "metadata": {
  "kernelspec": {
   "display_name": "Python 3",
   "language": "python",
   "name": "python3"
  },
  "language_info": {
   "codemirror_mode": {
    "name": "ipython",
    "version": 3
   },
   "file_extension": ".py",
   "mimetype": "text/x-python",
   "name": "python",
   "nbconvert_exporter": "python",
   "pygments_lexer": "ipython3",
   "version": "3.10.2"
  }
 },
 "nbformat": 4,
 "nbformat_minor": 2
}
