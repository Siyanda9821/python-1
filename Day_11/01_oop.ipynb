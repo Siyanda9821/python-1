{
 "cells": [
  {
   "cell_type": "markdown",
   "metadata": {},
   "source": [
    "# paradigms (style of coding)\n",
    "    function programming\n",
    "    OOP : Object Oriented Programming\n",
    "    Procedural programming\n",
    "    mathmatical programming\n",
    "\n",
    "#   Object Oriented Programming\n",
    "    Inspiration nature to solve compex problem\n",
    "    Programming abstract\n",
    "    Programming constructs into objects\n",
    "### car (blue print)\n",
    "    wheels\n",
    "    engine\n",
    "    make\n",
    "    doors"
   ]
  },
  {
   "cell_type": "code",
   "execution_count": null,
   "metadata": {},
   "outputs": [
    {
     "name": "stdout",
     "output_type": "stream",
     "text": [
      "<__main__.Car object at 0x00000138ABED47F0>\n",
      "4\n",
      "v8\n",
      "x5\n",
      "4\n",
      "wrangler\n",
      "Vroom Vroom\n",
      "Vroom Vroom\n"
     ]
    }
   ],
   "source": [
    "# Blueprint\n",
    "class Car:\n",
    "    # method init -> Called when you create object\n",
    "    def __init__(self, wheels, engine, model, doors):\n",
    "        # self -> object\n",
    "        # instance variables\n",
    "        self.wheels = wheels\n",
    "        self.engine = engine\n",
    "        self.model = model\n",
    "        self.doors = doors\n",
    "\n",
    "    # instance method\n",
    "    def horn(self):\n",
    "        return \"Vroom Vroom\"\n",
    "\n",
    "\n",
    "# Class -> Data + Logic\n",
    "# instance variables - Data\n",
    "# instance methods  - Logic\n",
    "\n",
    "bmw = Car(4, \"v8\", \"x5\", 4)  # bmw -> object / instance\n",
    "jeep = Car(4, \"v6\", \"wrangler\", 5)  # jeep -> object / instance\n",
    "honda=(4, \"v6 \" \"   civic   \" )\n",
    "jeep = Car(4, \"v6\", \"wrangler\", 5)\n",
    "\n",
    "\n",
    "print(bmw)  # Car Object\n",
    "# print(bmw['wheels']) # Error\n",
    "print(bmw.wheels)\n",
    "print(bmw.engine)\n",
    "print(bmw.model)\n",
    "print(bmw.doors)\n",
    "\n",
    "print(jeep.model)\n",
    "\n",
    "print(bmw.horn())\n",
    "print(jeep.horn())\n"
   ]
  },
  {
   "cell_type": "code",
   "execution_count": null,
   "metadata": {},
   "outputs": [
    {
     "name": "stdout",
     "output_type": "stream",
     "text": [
      "Your balance is 50000\n",
      "Success,  Your balance is 46000\n",
      "Your balance is 46000\n",
      "succesfully deposited, Your balance is 46024.55\n",
      "Your balance is 46024.55\n",
      "Interest earned: 920.49, New balance: Your balance is 46945.041000000005\n",
      "Your balance is 46945.041000000005\n",
      "None\n",
      "Your balance is 46945.041000000005\n",
      "Total number of accounts: 3\n",
      "<__main__.Bank object at 0x000001EB87C86BF0>\n"
     ]
    }
   ],
   "source": [
    "class Bank:\n",
    "    Interest= 0.02\n",
    "    total_account=0\n",
    "\n",
    "    def __init__(self, acc_no, name, balance):\n",
    "        self.acc_no = acc_no\n",
    "        self.name = name\n",
    "        self.balance = balance\n",
    "        self.interest_rate = Bank.Interest\n",
    "        Bank.total_account += 1  # Increment count when a new account is created\n",
    "\n",
    "\n",
    "    def display_balance(self):\n",
    "        return f\"Your balance is {self.balance}\"\n",
    "\n",
    "\n",
    "    def withdraw(self, amount):\n",
    "        if amount < 0:\n",
    "            return f\"withdrawal must be > 0\"\n",
    "\n",
    "        elif self.balance >= amount:\n",
    "            self.balance -= amount\n",
    "            return f\"Success,  { self.display_balance()}\"\n",
    "        else:\n",
    "            return f\"Sorry you don't have enough, { self.display_balance()}\"\n",
    "\n",
    "    def deposit(self,amount):\n",
    "        self.balance+= amount\n",
    "        return f\"succesfully deposited, { self.display_balance()}\"\n",
    "\n",
    "    def apply_interest(self):\n",
    "        interest_earned = self.balance * Bank.Interest  # Calculate interest\n",
    "        self.balance += interest_earned  # Update balance\n",
    "        return f\"Interest earned: {interest_earned:.2f}, New balance: {self.display_balance()}\"\n",
    "\n",
    "    @classmethod\n",
    "    def update_interest_rate(cls, rate):\n",
    "        cls.Interest = rate  # Update the class-level interest variable\n",
    "\n",
    "    @classmethod\n",
    "    def get_total_number_of_accounts(cls):\n",
    "        return f\"Total number of accounts: {cls.total_account}\"\n",
    "\n",
    "\n",
    "A = Bank(4147852, \"    A\", 50000)\n",
    "\n",
    "B = Bank(4864785, \"    A\", 30000)\n",
    "\n",
    "C = Bank(142452, \"  A\", 80000)\n",
    "\n",
    "\n",
    "print(A.display_balance())\n",
    "\n",
    "print(A.withdraw(4000))\n",
    "print(A.display_balance())\n",
    "\n",
    "print(A.deposit(24.55))\n",
    "print(A.display_balance())\n",
    "\n",
    "\n",
    "print(A.apply_interest())\n",
    "print(A.display_balance())\n",
    "\n",
    "print(A.update_interest_rate(0.4))\n",
    "print(A.display_balance())\n",
    "\n",
    "print(Bank.get_total_number_of_accounts())\n",
    "print(A)\n",
    "# print(A__str__()) Dunder method\n",
    "\n",
    "##Maging methods\n",
    "# __str__  ⬆️ Ux\n",
    "#__repr__ ⬆️ Dx"
   ]
  },
  {
   "cell_type": "markdown",
   "metadata": {},
   "source": [
    "Abstraction- Complexity is hidden, users don't have to know how it works\n",
    "Polymorphism- the same method behaves differently (overloading & overriding, concatenation(+))\n",
    "Inheritance- \n",
    "Encapsulation- putting instance variable and methods in a class"
   ]
  },
  {
   "cell_type": "code",
   "execution_count": 21,
   "metadata": {},
   "outputs": [
    {
     "name": "stdout",
     "output_type": "stream",
     "text": [
      "12.56\n",
      "50.24\n"
     ]
    }
   ],
   "source": [
    "from xml.etree.ElementTree import PI\n",
    "\n",
    "\n",
    "class Circle:\n",
    "    PI=3.14\n",
    "    def __init__(self,radius):\n",
    "        self.radius=radius\n",
    "\n",
    "    def calculate_area(self,radius):\n",
    "        return    self.PI*( self.radius **2)\n",
    "\n",
    "c1=Circle(2)\n",
    "c2=Circle(4)\n",
    "\n",
    "print(c1.calculate_area(2))\n",
    "print(c2.calculate_area(4))\n"
   ]
  },
  {
   "cell_type": "markdown",
   "metadata": {},
   "source": [
    "1.  @static methods\n",
    "    1. Loses acess to self\n",
    "    2. Only for calculations\n",
    "    3. Doesn't  Modify the instance variable \n",
    "   \n",
    "2.  @classmethod- provides access to the class\n",
    "    1. Modify class variables\n",
    "    2. "
   ]
  },
  {
   "cell_type": "markdown",
   "metadata": {},
   "source": [
    "To modify instance variables--> use instance method\n",
    "To modify class variable--> use class method "
   ]
  },
  {
   "cell_type": "code",
   "execution_count": null,
   "metadata": {},
   "outputs": [
    {
     "name": "stdout",
     "output_type": "stream",
     "text": [
      "12.56\n"
     ]
    }
   ],
   "source": [
    "# No modifications\n",
    "def perimeter(radius):\n",
    "    return 2*Circle.PI * radius\n",
    "\n",
    "print(perimeter(2))\n"
   ]
  },
  {
   "cell_type": "code",
   "execution_count": null,
   "metadata": {},
   "outputs": [],
   "source": [
    "from xml.etree.ElementTree import PI\n",
    "\n",
    "\n",
    "class Circle:\n",
    "    PI = 3.14\n",
    "\n",
    "    def __init__(self, radius):\n",
    "        self.radius = radius\n",
    "\n",
    "    @staticmethod\n",
    "    def perimeter(radius):\n",
    "        return 2 * Circle.PI * radius\n",
    "\n",
    "\n",
    "    def calculate_area(self, radius):\n",
    "        return self.PI * (self.radius**2)\n",
    "\n",
    "\n",
    "c1 = Circle(2)\n",
    "c2 = Circle(4)\n",
    "\n",
    "print(c1.calculate_area(2))\n",
    "print(c2.calculate_area(4))\n"
   ]
  },
  {
   "cell_type": "code",
   "execution_count": null,
   "metadata": {},
   "outputs": [],
   "source": [
    "class savings_account(Bank):\n",
    "    interest_rate = 0.05\n",
    "\n",
    "    def __init__(self, acc_no, name, balance):\n",
    "        super().__init__(acc_no, name, balance)\n",
    "\n",
    "    def apply_interest(self):\n",
    "        self.balance = self.balance * (1 + savings_account.interest_rate)\n",
    "        return self.balance\n",
    "\n",
    "# D=savings_account("
   ]
  },
  {
   "cell_type": "code",
   "execution_count": 54,
   "metadata": {},
   "outputs": [
    {
     "name": "stdout",
     "output_type": "stream",
     "text": [
      "Test Case 1: Initial balance\n",
      "Your balance is 50000.00\n",
      "\n",
      "Test Case 2: Withdraw 1000 with 1 rand fee\n",
      "Success, Your balance is 48999.00\n",
      "Your balance is 48999.00\n"
     ]
    }
   ],
   "source": [
    "class Bank:\n",
    "    Interest = 0.02  # Default interest rate\n",
    "\n",
    "    def __init__(self, acc_no, name, balance):\n",
    "        self.acc_no = acc_no\n",
    "        self.name = name\n",
    "        self.balance = balance\n",
    "        self.interest_rate = Bank.Interest  # Each account has its own interest rate\n",
    "\n",
    "    def display_balance(self):\n",
    "        return f\"Your balance is {self.balance:.2f}\"\n",
    "\n",
    "    def withdraw(self, amount):\n",
    "        if amount < 0:\n",
    "            return f\"Withdrawal must be > 0\"\n",
    "\n",
    "        if self.balance >= amount:\n",
    "            self.balance -= amount\n",
    "            return f\"Success, {self.display_balance()}\"\n",
    "        else:\n",
    "            return f\"Sorry, you don't have enough balance. {self.display_balance()}\"\n",
    "\n",
    "    def deposit(self, amount):\n",
    "        self.balance += amount\n",
    "        return f\"Successfully deposited, {self.display_balance()}\"\n",
    "\n",
    "    def apply_interest(self):\n",
    "        interest_earned = (\n",
    "            self.balance * self.interest_rate\n",
    "        )  # Use instance interest rate\n",
    "        self.balance += interest_earned\n",
    "        return f\"Interest earned: {interest_earned:.2f}, New balance: {self.display_balance()}\"\n",
    "\n",
    "\n",
    "class CheckingAccount(Bank):\n",
    "    # Overriding the withdraw method to charge a 1 rand fee\n",
    "    def withdraw(self, amount):\n",
    "        if amount < 0:\n",
    "            return f\"Withdrawal must be > 0\"\n",
    "\n",
    "        total_deduction = amount + 1  # 1 rand charge for withdrawal\n",
    "        if self.balance >= total_deduction:\n",
    "            self.balance -= total_deduction\n",
    "            return f\"Success, {self.display_balance()}\"\n",
    "        else:\n",
    "            return f\"Sorry, you don't have enough balance. {self.display_balance()}\"\n",
    "\n",
    "\n",
    "# Create an instance of CheckingAccount\n",
    "C = CheckingAccount(456, \"C\", 50000)\n",
    "\n",
    "# Test Case 1: Display initial balance\n",
    "print(\"Test Case 1: Initial balance\")\n",
    "print(C.display_balance())  # Expected: Your balance is 50000.00\n",
    "\n",
    "# Test Case 2: Withdraw 1000 with 1 rand fee\n",
    "print(\"\\nTest Case 2: Withdraw 1000 with 1 rand fee\")\n",
    "print(C.withdraw(1000))  # Expected: Success, Your balance is 49000.00\n",
    "print(C.display_balance())  # Expected: Your balance is 49000.00\n"
   ]
  }
 ],
 "metadata": {
  "kernelspec": {
   "display_name": "Python 3",
   "language": "python",
   "name": "python3"
  },
  "language_info": {
   "codemirror_mode": {
    "name": "ipython",
    "version": 3
   },
   "file_extension": ".py",
   "mimetype": "text/x-python",
   "name": "python",
   "nbconvert_exporter": "python",
   "pygments_lexer": "ipython3",
   "version": "3.10.2"
  }
 },
 "nbformat": 4,
 "nbformat_minor": 2
}
