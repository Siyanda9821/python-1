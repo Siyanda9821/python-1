{
 "cells": [
  {
   "cell_type": "markdown",
   "metadata": {},
   "source": [
    "# paradigms (style of coding)\n",
    "    function programming\n",
    "    OOP : Object Oriented Programming\n",
    "    Procedural programming\n",
    "    mathmatical programming\n",
    "\n",
    "#   Object Oriented Programming\n",
    "    Inspiration nature to solve compex problem\n",
    "    Programming abstract\n",
    "    Programming constructs into objects\n",
    "### car (blue print)\n",
    "    wheels\n",
    "    engine\n",
    "    make\n",
    "    doors"
   ]
  },
  {
   "cell_type": "code",
   "execution_count": null,
   "metadata": {},
   "outputs": [
    {
     "name": "stdout",
     "output_type": "stream",
     "text": [
      "<__main__.Car object at 0x00000138ABED47F0>\n",
      "4\n",
      "v8\n",
      "x5\n",
      "4\n",
      "wrangler\n",
      "Vroom Vroom\n",
      "Vroom Vroom\n"
     ]
    }
   ],
   "source": [
    "# Blueprint\n",
    "class Car:\n",
    "    # method init -> Called when you create object\n",
    "    def __init__(self, wheels, engine, model, doors):\n",
    "        # self -> object\n",
    "        # instance variables\n",
    "        self.wheels = wheels\n",
    "        self.engine = engine\n",
    "        self.model = model\n",
    "        self.doors = doors\n",
    "\n",
    "    # instance method\n",
    "    def horn(self):\n",
    "        return \"Vroom Vroom\"\n",
    "\n",
    "\n",
    "# Class -> Data + Logic\n",
    "# instance variables - Data\n",
    "# instance methods  - Logic\n",
    "\n",
    "bmw = Car(4, \"v8\", \"x5\", 4)  # bmw -> object / instance\n",
    "jeep = Car(4, \"v6\", \"wrangler\", 5)  # jeep -> object / instance\n",
    "honda=(4, \"v6 \" \"   civic   \" )\n",
    "jeep = Car(4, \"v6\", \"wrangler\", 5)\n",
    "\n",
    "\n",
    "print(bmw)  # Car Object\n",
    "# print(bmw['wheels']) # Error\n",
    "print(bmw.wheels)\n",
    "print(bmw.engine)\n",
    "print(bmw.model)\n",
    "print(bmw.doors)\n",
    "\n",
    "print(jeep.model)\n",
    "\n",
    "print(bmw.horn())\n",
    "print(jeep.horn())\n"
   ]
  },
  {
   "cell_type": "code",
   "execution_count": null,
   "metadata": {},
   "outputs": [],
   "source": []
  }
 ],
 "metadata": {
  "kernelspec": {
   "display_name": "Python 3",
   "language": "python",
   "name": "python3"
  },
  "language_info": {
   "codemirror_mode": {
    "name": "ipython",
    "version": 3
   },
   "file_extension": ".py",
   "mimetype": "text/x-python",
   "name": "python",
   "nbconvert_exporter": "python",
   "pygments_lexer": "ipython3",
   "version": "3.10.2"
  }
 },
 "nbformat": 4,
 "nbformat_minor": 2
}
