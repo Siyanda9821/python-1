{
 "cells": [
  {
   "cell_type": "markdown",
   "metadata": {},
   "source": [
    "##  2-Phase Execution \n",
    "\n",
    "Python has two phases of execution, the first phase is \n",
    "1. Compilation\n",
    "   - All the names of declarations are noted\n",
    "2. Execution\n",
    "   - Values are printed \n",
    "---------------------------------------------------------------------------------------------------------\n",
    "# SUMMARY\n",
    "\n",
    " 1. local var preferrence\n",
    " 2. UnboundLocalError --> if you try to access before declaration\n",
    " 3. only functions create new scope.\n"
   ]
  },
  {
   "cell_type": "code",
   "execution_count": 3,
   "metadata": {},
   "outputs": [
    {
     "name": "stdout",
     "output_type": "stream",
     "text": [
      "The new price is:  100\n"
     ]
    }
   ],
   "source": [
    "# Case 2:\n",
    "price = 200\n",
    "\n",
    "\n",
    "# 1. Compilation\n",
    "def get_price():\n",
    "   #print(\"The old price is: \", price)  # ❌ skip\n",
    "    price = 100  # Local variable preference # ✅ price -> name is noted | not value\n",
    "    print(\"The new price is: \", price)  # ❌ skip\n",
    "\n",
    "\n",
    "get_price()\n"
   ]
  },
  {
   "cell_type": "code",
   "execution_count": 1,
   "metadata": {},
   "outputs": [
    {
     "name": "stdout",
     "output_type": "stream",
     "text": [
      "The old price is:  100\n",
      "The new price is:  100\n"
     ]
    }
   ],
   "source": [
    "# Case 3: Both same variable name (Outside & Inside)\n",
    "price = 200  # Live under the shadow\n",
    "# Local scope given higher priority\n",
    "\n",
    "\n",
    "# 1. Compilation\n",
    "def get_price():\n",
    "    price = 100  # Shadowing # Legend  # ✅ price. name is noted | not value\n",
    "    print(\"The old price is: \", price)  # 100 # ❌ skip\n",
    "    print(\"The new price is: \", price)  # 100 # ❌ skip\n",
    "\n",
    "\n",
    "get_price()\n"
   ]
  },
  {
   "cell_type": "code",
   "execution_count": null,
   "metadata": {},
   "outputs": [],
   "source": []
  }
 ],
 "metadata": {
  "kernelspec": {
   "display_name": "Python 3",
   "language": "python",
   "name": "python3"
  },
  "language_info": {
   "codemirror_mode": {
    "name": "ipython",
    "version": 3
   },
   "file_extension": ".py",
   "mimetype": "text/x-python",
   "name": "python",
   "nbconvert_exporter": "python",
   "pygments_lexer": "ipython3",
   "version": "3.10.2"
  }
 },
 "nbformat": 4,
 "nbformat_minor": 2
}
