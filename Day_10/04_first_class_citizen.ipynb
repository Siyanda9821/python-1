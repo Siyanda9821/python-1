{
 "cells": [
  {
   "cell_type": "markdown",
   "metadata": {
    "vscode": {
     "languageId": "plaintext"
    }
   },
   "source": [
    "# rules \n",
    "1. assign to variable\n",
    "2. pass as argument\n",
    "3. return\n",
    "\n",
    "\n",
    "# functions are first class citizens \n",
    "1. functions: assign to variable\n",
    "2. functions: pass as argument\n",
    "3. functions: return"
   ]
  },
  {
   "cell_type": "markdown",
   "metadata": {},
   "source": [
    "###  Functional languages - F#, Haskell, Scala - Recursion\n"
   ]
  },
  {
   "cell_type": "code",
   "execution_count": null,
   "metadata": {},
   "outputs": [
    {
     "name": "stdout",
     "output_type": "stream",
     "text": [
      "Hi 😄🤚\n",
      "Hi 😄🤚\n",
      "Hi 😄🤚\n",
      "Hi 😄🤚\n"
     ]
    }
   ],
   "source": [
    "def f1():\n",
    "    def f2():\n",
    "        return \"Hi 😄🤚\"\n",
    "\n",
    "    return f2\n",
    "\n",
    "\n",
    "x = f1()  # f2\n",
    "print(x())  # f2()\n",
    "print(f1()())  # f2()\n",
    "print(f1()())\n"
   ]
  }
 ],
 "metadata": {
  "kernelspec": {
   "display_name": "Python 3",
   "language": "python",
   "name": "python3"
  },
  "language_info": {
   "codemirror_mode": {
    "name": "ipython",
    "version": 3
   },
   "file_extension": ".py",
   "mimetype": "text/x-python",
   "name": "python",
   "nbconvert_exporter": "python",
   "pygments_lexer": "ipython3",
   "version": "3.10.2"
  }
 },
 "nbformat": 4,
 "nbformat_minor": 2
}
