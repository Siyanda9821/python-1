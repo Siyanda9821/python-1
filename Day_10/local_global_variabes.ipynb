{
 "cells": [
  {
   "cell_type": "markdown",
   "metadata": {},
   "source": [
    "| Feature           | Local Variable                                  | Global Variable                               |\n",
    "|------------------|--------------------------------|--------------------------------|\n",
    "| **Scope**        | Exists only within the function/block where it is declared. | Accessible throughout the entire program. |\n",
    "| **Lifetime**     | Created when the function is called, destroyed when the function ends. | Created when the program starts and destroyed when it terminates. |\n",
    "| **Accessibility**| Only accessible inside the function or block where it is declared. | Can be accessed and modified from any function in the program. |\n",
    "| **Memory Usage** | Uses less memory as it's only active while the function runs. | Uses more memory as it persists throughout the program. |\n",
    "| **Modification** | Cannot be modified outside its scope. | Can be modified from any part of the program (unless explicitly protected). |\n"
   ]
  },
  {
   "cell_type": "code",
   "execution_count": null,
   "metadata": {},
   "outputs": [
    {
     "name": "stdout",
     "output_type": "stream",
     "text": [
      "Inside function: x = 10\n",
      "Inside function: y = 5\n",
      "Outside function: x = 10\n"
     ]
    },
    {
     "ename": "NameError",
     "evalue": "name 'y' is not defined",
     "output_type": "error",
     "traceback": [
      "\u001b[1;31m---------------------------------------------------------------------------\u001b[0m",
      "\u001b[1;31mNameError\u001b[0m                                 Traceback (most recent call last)",
      "Cell \u001b[1;32mIn[1], line 16\u001b[0m\n\u001b[0;32m     13\u001b[0m \u001b[38;5;28mprint\u001b[39m(\u001b[38;5;124m\"\u001b[39m\u001b[38;5;124mOutside function: x =\u001b[39m\u001b[38;5;124m\"\u001b[39m, x)\n\u001b[0;32m     15\u001b[0m \u001b[38;5;66;03m# Trying to access local variable outside its scope (will cause an error)\u001b[39;00m\n\u001b[1;32m---> 16\u001b[0m \u001b[38;5;28mprint\u001b[39m(\u001b[38;5;124m\"\u001b[39m\u001b[38;5;124mOutside function: y =\u001b[39m\u001b[38;5;124m\"\u001b[39m, \u001b[43my\u001b[49m)  \u001b[38;5;66;03m# This will cause an error\u001b[39;00m\n",
      "\u001b[1;31mNameError\u001b[0m: name 'y' is not defined"
     ]
    }
   ],
   "source": [
    "# Global\n",
    "x = 10\n",
    "\n",
    "def my_function():\n",
    "    # Local vriable\n",
    "    y = 5\n",
    "    print(\"Inside function: x =\", x)  # Accessing global variable\n",
    "    print(\"Inside function: y =\", y)  # Accessing local variable\n",
    "\n",
    "my_function()\n",
    "\n",
    "# Accessing global variable outside function\n",
    "print(\"Outside function: x =\", x)\n",
    "\n",
    "# Trying to access local variable outside its scope (will cause an error)\n",
    "print(\"Outside function: y =\", y)"
   ]
  }
 ],
 "metadata": {
  "kernelspec": {
   "display_name": "Python 3",
   "language": "python",
   "name": "python3"
  },
  "language_info": {
   "codemirror_mode": {
    "name": "ipython",
    "version": 3
   },
   "file_extension": ".py",
   "mimetype": "text/x-python",
   "name": "python",
   "nbconvert_exporter": "python",
   "pygments_lexer": "ipython3",
   "version": "3.10.2"
  }
 },
 "nbformat": 4,
 "nbformat_minor": 2
}
