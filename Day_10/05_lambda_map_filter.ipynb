{
 "cells": [
  {
   "cell_type": "markdown",
   "metadata": {
    "vscode": {
     "languageId": "plaintext"
    }
   },
   "source": [
    "# Lambda expression/function \n",
    "\n",
    "1. Anonymous - nameless function\n",
    "2. One liner\n",
    "3. Implicit return (automatically)\n",
    "4. Lambda should be used if the function won't be reused\n",
    "5. predicate- a function that returns a boolean"
   ]
  },
  {
   "cell_type": "code",
   "execution_count": 1,
   "metadata": {},
   "outputs": [
    {
     "name": "stdout",
     "output_type": "stream",
     "text": [
      "17\n"
     ]
    }
   ],
   "source": [
    "def add(n1, n2):\n",
    "    return n1 + n2\n",
    "\n",
    "\n",
    "add1 = lambda n1, n2: n1 + n2\n",
    "\n",
    "print(add1(9, 8))"
   ]
  },
  {
   "cell_type": "markdown",
   "metadata": {},
   "source": [
    "# Map\n",
    " 1. len(Input_list) == len(Output_list)\n",
    " 2. Transform data type\n",
    " 3. Does not affect the Input list\n",
    " 4. takes another function as an argument (HOF)\n"
   ]
  },
  {
   "cell_type": "code",
   "execution_count": 2,
   "metadata": {},
   "outputs": [
    {
     "name": "stdout",
     "output_type": "stream",
     "text": [
      "<map object at 0x000001D92563C3D0> [20, 60, 120]\n"
     ]
    }
   ],
   "source": [
    "player_stats = [10, 30, 60]\n",
    "boosted_stats = map(lambda x: x * 2, player_stats)\n",
    "print(boosted_stats, list(boosted_stats))\n"
   ]
  },
  {
   "cell_type": "markdown",
   "metadata": {},
   "source": [
    "# filter\n",
    "1. len(Input_list) >= len(Output_list)\n",
    "2. Input data_type == Output data_type\n",
    "3. Does not affect the Input list\n"
   ]
  },
  {
   "cell_type": "code",
   "execution_count": 5,
   "metadata": {},
   "outputs": [
    {
     "name": "stdout",
     "output_type": "stream",
     "text": [
      "<filter object at 0x000001D92563E6E0> [30, 60]\n",
      "[10, 30, 60]\n"
     ]
    }
   ],
   "source": [
    "player_stats = [10, 30, 60]\n",
    "result = filter(lambda x:x>=  30 , player_stats)\n",
    "print(result, list(result))\n",
    "print(player_stats)\n"
   ]
  }
 ],
 "metadata": {
  "kernelspec": {
   "display_name": "Python 3",
   "language": "python",
   "name": "python3"
  },
  "language_info": {
   "codemirror_mode": {
    "name": "ipython",
    "version": 3
   },
   "file_extension": ".py",
   "mimetype": "text/x-python",
   "name": "python",
   "nbconvert_exporter": "python",
   "pygments_lexer": "ipython3",
   "version": "3.10.2"
  }
 },
 "nbformat": 4,
 "nbformat_minor": 2
}
