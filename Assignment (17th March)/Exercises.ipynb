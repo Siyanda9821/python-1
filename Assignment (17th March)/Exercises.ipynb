{
 "cells": [
  {
   "cell_type": "markdown",
   "metadata": {},
   "source": [
    "## Data Manipulation \n"
   ]
  },
  {
   "cell_type": "code",
   "execution_count": 9,
   "metadata": {},
   "outputs": [],
   "source": [
    "students = [\n",
    "    {\"name\": \"Alice\", \"grade\": 88},\n",
    "    {\"name\": \"Bob\", \"grade\": 75},\n",
    "    {\"name\": \"Charlie\", \"grade\": 93},\n",
    "]\n"
   ]
  },
  {
   "cell_type": "code",
   "execution_count": 10,
   "metadata": {},
   "outputs": [
    {
     "data": {
      "text/plain": [
       "[{'name': 'Charlie', 'grade': 93},\n",
       " {'name': 'Alice', 'grade': 88},\n",
       " {'name': 'Bob', 'grade': 75}]"
      ]
     },
     "execution_count": 10,
     "metadata": {},
     "output_type": "execute_result"
    }
   ],
   "source": [
    "students.sort(key=lambda x: x[\"grade\"], reverse=True)\n",
    "students\n"
   ]
  },
  {
   "cell_type": "markdown",
   "metadata": {},
   "source": [
    "## 2"
   ]
  },
  {
   "cell_type": "code",
   "execution_count": 11,
   "metadata": {},
   "outputs": [
    {
     "data": {
      "text/plain": [
       "[{'id': 1, 'name': 'Alice', 'salary': 50000},\n",
       " {'id': 2, 'name': 'Bob', 'salary': 60000}]"
      ]
     },
     "execution_count": 11,
     "metadata": {},
     "output_type": "execute_result"
    }
   ],
   "source": [
    "# Setup Code\n",
    "employees = [{\"id\": 1, \"name\": \"Alice\"}, {\"id\": 2, \"name\": \"Bob\"}]\n",
    "salaries = [{\"id\": 1, \"salary\": 50000}, {\"id\": 2, \"salary\": 60000}]\n",
    "\n",
    "\n",
    "merged_list = []\n",
    "for emp in employees:\n",
    "    for sal in salaries:\n",
    "        if emp[\"id\"] == sal[\"id\"]:\n",
    "            merged_list.append({**emp, **sal})\n",
    "merged_list"
   ]
  },
  {
   "cell_type": "markdown",
   "metadata": {},
   "source": [
    "## 3"
   ]
  },
  {
   "cell_type": "code",
   "execution_count": 12,
   "metadata": {},
   "outputs": [
    {
     "data": {
      "text/plain": [
       "[{'id': 3, 'category': 'Electronics', 'price': 400}]"
      ]
     },
     "execution_count": 12,
     "metadata": {},
     "output_type": "execute_result"
    }
   ],
   "source": [
    "# Setup Code\n",
    "products = [\n",
    "    {\"id\": 1, \"category\": \"Electronics\", \"price\": 850},\n",
    "    {\"id\": 2, \"category\": \"Furniture\", \"price\": 1200},\n",
    "    {\"id\": 3, \"category\": \"Electronics\", \"price\": 400},\n",
    "]\n",
    "\n",
    "\n",
    "filtered_products = []\n",
    "for product in products:\n",
    "    if product[\"category\"] == \"Electronics\" and product[\"price\"] < 500:\n",
    "        filtered_products.append(product)\n",
    "\n",
    "filtered_products"
   ]
  },
  {
   "cell_type": "markdown",
   "metadata": {},
   "source": [
    "## 4"
   ]
  },
  {
   "cell_type": "code",
   "execution_count": null,
   "metadata": {},
   "outputs": [
    {
     "data": {
      "text/plain": [
       "{'A': 3, 'B': 3, 'C': 1}"
      ]
     },
     "execution_count": 13,
     "metadata": {},
     "output_type": "execute_result"
    }
   ],
   "source": [
    "# Setup Code\n",
    "orders = [\n",
    "    {\n",
    "        \"order_id\": 1,\n",
    "        \"items\": [{\"product\": \"A\", \"quantity\": 2}, {\"product\": \"B\", \"quantity\": 3}],\n",
    "    },\n",
    "    {\n",
    "        \"order_id\": 2,\n",
    "        \"items\": [{\"product\": \"A\", \"quantity\": 1}, {\"product\": \"C\", \"quantity\": 1}],\n",
    "    },\n",
    "]\n",
    "\n",
    "\n",
    "product_totals = {}\n",
    "\n",
    "for order in orders:\n",
    "    for item in order[\"items\"]:\n",
    "        product = item[\"product\"]\n",
    "        quantity = item[\"quantity\"]\n",
    "\n",
    "\n",
    "        if product in product_totals:\n",
    "            product_totals[product] += quantity\n",
    "        else:\n",
    "            product_totals[product] = quantity\n",
    "product_totals"
   ]
  },
  {
   "cell_type": "markdown",
   "metadata": {},
   "source": [
    "## 5"
   ]
  },
  {
   "cell_type": "code",
   "execution_count": 14,
   "metadata": {},
   "outputs": [
    {
     "data": {
      "text/plain": [
       "{'Food': 250, 'Transport': 200}"
      ]
     },
     "execution_count": 14,
     "metadata": {},
     "output_type": "execute_result"
    }
   ],
   "source": [
    "# Setup Code\n",
    "transactions = [\n",
    "    {\"date\": \"2021-01-01\", \"amount\": 100, \"category\": \"Food\"},\n",
    "    {\"date\": \"2021-01-01\", \"amount\": 200, \"category\": \"Transport\"},\n",
    "    {\"date\": \"2021-01-02\", \"amount\": 150, \"category\": \"Food\"},\n",
    "]\n",
    "\n",
    "\n",
    "category_totals = {}\n",
    "\n",
    "for transaction in transactions:\n",
    "    category = transaction[\"category\"]\n",
    "    amount = transaction[\"amount\"]\n",
    "\n",
    "\n",
    "    if category in category_totals:\n",
    "        category_totals[category] += amount\n",
    "    else:\n",
    "        category_totals[category] = amount\n",
    "category_totals"
   ]
  },
  {
   "cell_type": "markdown",
   "metadata": {},
   "source": [
    "## 6"
   ]
  },
  {
   "cell_type": "code",
   "execution_count": null,
   "metadata": {},
   "outputs": [
    {
     "data": {
      "text/plain": [
       "{'Alice': 300, 'Bob': 150}"
      ]
     },
     "execution_count": 15,
     "metadata": {},
     "output_type": "execute_result"
    }
   ],
   "source": [
    "# Setup Code\n",
    "sales = [\n",
    "    {\"salesperson\": \"Alice\", \"amount\": 200},\n",
    "    {\"salesperson\": \"Bob\", \"amount\": 150},\n",
    "    {\"salesperson\": \"Alice\", \"amount\": 100},\n",
    "]\n",
    "\n",
    "\n",
    "sales_totals = {}\n",
    "\n",
    "for sale in sales:\n",
    "    salesperson = sale[\"salesperson\"]\n",
    "    amount = sale[\"amount\"]\n",
    "\n",
    "    if salesperson in sales_totals:\n",
    "        sales_totals[salesperson] += amount\n",
    "    else:\n",
    "        sales_totals[salesperson] = amount\n",
    "\n",
    "sales_totals"
   ]
  },
  {
   "cell_type": "markdown",
   "metadata": {},
   "source": [
    "## 7"
   ]
  },
  {
   "cell_type": "code",
   "execution_count": 16,
   "metadata": {},
   "outputs": [
    {
     "data": {
      "text/plain": [
       "[('Obliviate', 10), ('Expelliarmus', 7), ('Lumos', 5)]"
      ]
     },
     "execution_count": 16,
     "metadata": {},
     "output_type": "execute_result"
    }
   ],
   "source": [
    "# Setup Code\n",
    "spells = [(\"Lumos\", 5), (\"Obliviate\", 10), (\"Expelliarmus\", 7)]\n",
    "\n",
    "\n",
    "sorted_spells = sorted(spells, key=lambda x: x[1], reverse=True)\n",
    "sorted_spells\n"
   ]
  },
  {
   "cell_type": "markdown",
   "metadata": {},
   "source": [
    "## 8"
   ]
  },
  {
   "cell_type": "code",
   "execution_count": 17,
   "metadata": {},
   "outputs": [
    {
     "data": {
      "text/plain": [
       "['Wolfsbane: 3 grams', 'Eye of Newt: 3 grams', 'Dragon Scale: 3 grams']"
      ]
     },
     "execution_count": 17,
     "metadata": {},
     "output_type": "execute_result"
    }
   ],
   "source": [
    "# Setup Code\n",
    "ingredients = [\"Wolfsbane\", \"Eye of Newt\", \"Dragon Scale\"]\n",
    "\n",
    "updated_ingredients = list(map(lambda x: x + \": 3 grams\", ingredients))\n",
    "updated_ingredients\n"
   ]
  },
  {
   "cell_type": "markdown",
   "metadata": {},
   "source": [
    "## 9"
   ]
  },
  {
   "cell_type": "code",
   "execution_count": 18,
   "metadata": {},
   "outputs": [
    {
     "data": {
      "text/plain": [
       "['MAGICAL DRAFTS AND POTIONS']"
      ]
     },
     "execution_count": 18,
     "metadata": {},
     "output_type": "execute_result"
    }
   ],
   "source": [
    "# Setup Code\n",
    "books = [\n",
    "    {\"title\": \"A History of Magic\", \"pages\": 100},\n",
    "    {\"title\": \"Magical Drafts and Potions\", \"pages\": 150},\n",
    "]\n",
    "\n",
    "titles = list(\n",
    "    map(\n",
    "        lambda book: book[\"title\"].upper(),\n",
    "        filter(lambda book: book[\"pages\"] > 120, books),\n",
    "    )\n",
    ")\n",
    "titles\n"
   ]
  },
  {
   "cell_type": "markdown",
   "metadata": {},
   "source": [
    "## 10"
   ]
  },
  {
   "cell_type": "code",
   "execution_count": 19,
   "metadata": {},
   "outputs": [
    {
     "name": "stdout",
     "output_type": "stream",
     "text": [
      "The winner is: No winner yet\n"
     ]
    }
   ],
   "source": [
    "class WizardDuel:\n",
    "    def __init__(self, wizard1, wizard2, health1, health2):\n",
    "        self.wizard1 = wizard1\n",
    "        self.wizard2 = wizard2\n",
    "        self.health1 = health1\n",
    "        self.health2 = health2\n",
    "\n",
    "    def cast_spell(self, caster, damage):\n",
    "\n",
    "        if caster == self.wizard1:\n",
    "            self.health2 -= damage\n",
    "        elif caster == self.wizard2:\n",
    "            self.health1 -= damage\n",
    "\n",
    "    def get_winner(self):\n",
    "\n",
    "        if self.health1 <= 0 and self.health2 <= 0:\n",
    "            return \"It's a tie\"\n",
    "        elif self.health1 <= 0:\n",
    "            return self.wizard2\n",
    "        elif self.health2 <= 0:\n",
    "            return self.wizard1\n",
    "        return \"No winner yet\"\n",
    "\n",
    "\n",
    "\n",
    "duel = WizardDuel(\"Harry\", \"Draco\", 50, 40)\n",
    "duel.cast_spell(\"Harry\", 10)\n",
    "duel.cast_spell(\"Draco\", 5)\n",
    "winner = duel.get_winner()\n",
    "\n",
    "print(f\"The winner is: {winner}\")\n"
   ]
  },
  {
   "cell_type": "markdown",
   "metadata": {},
   "source": [
    "## 11"
   ]
  },
  {
   "cell_type": "code",
   "execution_count": 20,
   "metadata": {},
   "outputs": [
    {
     "name": "stdout",
     "output_type": "stream",
     "text": [
      "Love Potion brewed successfully!\n",
      "Caught PotionError: Missing ingredients for Love Potion: Unicorn Hair\n"
     ]
    }
   ],
   "source": [
    "class PotionError(Exception):\n",
    "    pass\n",
    "\n",
    "\n",
    "def brew_potion(potion_name, ingredients):\n",
    "\n",
    "    required_ingredients = {\n",
    "        \"Love Potion\": [\"Rose Petal\", \"Unicorn Hair\"],\n",
    "        \"Invisibility Potion\": [\"Invisible Ink\", \"Dragon Scale\"],\n",
    "    }\n",
    "\n",
    "    if potion_name not in required_ingredients:\n",
    "        raise PotionError(f\"Potion {potion_name} is not recognized.\")\n",
    "\n",
    "    missing_ingredients = [\n",
    "        ingredient\n",
    "        for ingredient in required_ingredients[potion_name]\n",
    "        if ingredient not in ingredients\n",
    "    ]\n",
    "\n",
    "    if missing_ingredients:\n",
    "        raise PotionError(\n",
    "            f\"Missing ingredients for {potion_name}: {', '.join(missing_ingredients)}\"\n",
    "        )\n",
    "\n",
    "    return f\"{potion_name} brewed successfully!\"\n",
    "\n",
    "\n",
    "try:\n",
    "    result = brew_potion(\"Love Potion\", [\"Rose Petal\", \"Unicorn Hair\"])\n",
    "    print(result)\n",
    "except PotionError as e:\n",
    "    print(f\"Caught PotionError: {e}\")\n",
    "\n",
    "try:\n",
    "    result = brew_potion(\"Love Potion\", [\"Rose Petal\"])\n",
    "    print(result)\n",
    "except PotionError as e:\n",
    "    print(f\"Caught PotionError: {e}\")\n"
   ]
  },
  {
   "cell_type": "markdown",
   "metadata": {},
   "source": [
    "## 12"
   ]
  },
  {
   "cell_type": "code",
   "execution_count": 21,
   "metadata": {},
   "outputs": [
    {
     "data": {
      "text/plain": [
       "[{'title': 'Magical Hieroglyphs and Logograms', 'author': 'Bathilda Bagshot'}]"
      ]
     },
     "execution_count": 21,
     "metadata": {},
     "output_type": "execute_result"
    }
   ],
   "source": [
    "# Setup Code\n",
    "library = [\n",
    "    {\"title\": \"Unfogging the Future\", \"author\": \"Cassandra Vablatsky\"},\n",
    "    {\"title\": \"Magical Hieroglyphs and Logograms\", \"author\": \"Bathilda Bagshot\"},\n",
    "]\n",
    "\n",
    "bathilda_books = [book for book in library if book[\"author\"] == \"Bathilda Bagshot\"]\n",
    "bathilda_books"
   ]
  },
  {
   "cell_type": "markdown",
   "metadata": {},
   "source": [
    "## 13"
   ]
  },
  {
   "cell_type": "code",
   "execution_count": 22,
   "metadata": {},
   "outputs": [
    {
     "data": {
      "text/plain": [
       "{'Gryffindor': 95, 'Slytherin': 90}"
      ]
     },
     "execution_count": 22,
     "metadata": {},
     "output_type": "execute_result"
    }
   ],
   "source": [
    "# Setup Code\n",
    "house_points = [\n",
    "    {\"house\": \"Gryffindor\", \"points\": 35},\n",
    "    {\"house\": \"Slytherin\", \"points\": 50},\n",
    "    {\"house\": \"Gryffindor\", \"points\": 60},\n",
    "    {\"house\": \"Slytherin\", \"points\": 40},\n",
    "]\n",
    "\n",
    "\n",
    "total_points = {}\n",
    "\n",
    "for entry in house_points:\n",
    "    house = entry[\"house\"]\n",
    "    points = entry[\"points\"]\n",
    "\n",
    "    if house in total_points:\n",
    "        total_points[house] += points\n",
    "    else:\n",
    "        total_points[house] = points\n",
    "total_points"
   ]
  },
  {
   "cell_type": "markdown",
   "metadata": {},
   "source": [
    "## 15"
   ]
  },
  {
   "cell_type": "code",
   "execution_count": 23,
   "metadata": {},
   "outputs": [
    {
     "data": {
      "text/plain": [
       "[{'name': 'Cloak of Invisibility', 'age': 657, 'power': 9.5},\n",
       " {'name': 'Resurrection Stone', 'age': 800, 'power': 7},\n",
       " {'name': 'Elder Wand', 'age': 1000, 'power': 10}]"
      ]
     },
     "execution_count": 23,
     "metadata": {},
     "output_type": "execute_result"
    }
   ],
   "source": [
    "# Setup Code\n",
    "artifacts = [\n",
    "    {\"name\": \"Cloak of Invisibility\", \"age\": 657, \"power\": 9.5},\n",
    "    {\"name\": \"Elder Wand\", \"age\": 1000, \"power\": 10},\n",
    "    {\"name\": \"Resurrection Stone\", \"age\": 800, \"power\": 7},\n",
    "]\n",
    "\n",
    "sorted_artifacts = sorted(artifacts, key=lambda x: (x[\"age\"], x[\"power\"]))\n",
    "sorted_artifacts"
   ]
  },
  {
   "cell_type": "markdown",
   "metadata": {},
   "source": [
    "## 16"
   ]
  },
  {
   "cell_type": "code",
   "execution_count": 24,
   "metadata": {},
   "outputs": [
    {
     "data": {
      "text/plain": [
       "'Albus Dumbledore is the Headmaster of Gryffindor.'"
      ]
     },
     "execution_count": 24,
     "metadata": {},
     "output_type": "execute_result"
    }
   ],
   "source": [
    "# Setup Code\n",
    "wizard = {\"name\": \"Albus Dumbledore\", \"title\": \"Headmaster\", \"house\": \"Gryffindor\"}\n",
    "\n",
    "profile = f\"{wizard['name']} is the {wizard['title']} of {wizard['house']}.\"\n",
    "profile"
   ]
  },
  {
   "cell_type": "markdown",
   "metadata": {},
   "source": [
    "## 17 "
   ]
  },
  {
   "cell_type": "code",
   "execution_count": 25,
   "metadata": {},
   "outputs": [
    {
     "data": {
      "text/plain": [
       "[('Harry', ['Fawkes']), ('Hermione', ['Dobby'])]"
      ]
     },
     "execution_count": 25,
     "metadata": {},
     "output_type": "execute_result"
    }
   ],
   "source": [
    "# Setup Code\n",
    "adopters = [(\"Harry\", \"Phoenix\"), (\"Hermione\", \"House Elf\")]\n",
    "creatures = [(\"Fawkes\", \"Phoenix\"), (\"Dobby\", \"House Elf\"), (\"Buckbeak\", \"Hippogriff\")]\n",
    "\n",
    "matches = list(\n",
    "    map(\n",
    "        lambda adopter: (\n",
    "            adopter[0],\n",
    "            [creature[0] for creature in creatures if creature[1] == adopter[1]],\n",
    "        ),\n",
    "        adopters,\n",
    "    )\n",
    ")\n",
    "matches"
   ]
  },
  {
   "cell_type": "markdown",
   "metadata": {},
   "source": [
    "## 18"
   ]
  },
  {
   "cell_type": "code",
   "execution_count": 26,
   "metadata": {},
   "outputs": [
    {
     "name": "stdout",
     "output_type": "stream",
     "text": [
      "Combining Moonstone and Silver Dust produces a unique potion.\n",
      "Combining Moonstone and Dragon Blood produces a unique potion.\n",
      "Combining Silver Dust and Dragon Blood produces a unique potion.\n"
     ]
    }
   ],
   "source": [
    "# Setup Code\n",
    "ingredients = [\"Moonstone\", \"Silver Dust\", \"Dragon Blood\"]\n",
    "ingredients = [\"Moonstone\", \"Silver Dust\", \"Dragon Blood\"]\n",
    "\n",
    "for i in range(len(ingredients)):\n",
    "    for j in range(i + 1, len(ingredients)):\n",
    "        print(\n",
    "            f\"Combining {ingredients[i]} and {ingredients[j]} produces a unique potion.\"\n",
    "        )\n"
   ]
  },
  {
   "cell_type": "markdown",
   "metadata": {},
   "source": [
    "## 19"
   ]
  },
  {
   "cell_type": "code",
   "execution_count": null,
   "metadata": {},
   "outputs": [
    {
     "name": "stdout",
     "output_type": "stream",
     "text": [
      "[{'id': 1, 'name': 'Item 1', 'tags': ['tag1', 'tag2', 'tag4']}, {'id': 2, 'name': 'Item 2', 'tags': ['tag2', 'tag3']}, {'id': 3, 'name': 'Item 3', 'tags': ['tag1', 'tag3', 'tag4']}]\n"
     ]
    }
   ],
   "source": [
    "data = [\n",
    "    {\"id\": 1, \"name\": \"Item 1\", \"tags\": [\"tag1\", \"tag2\"]},\n",
    "    {\"id\": 2, \"name\": \"Item 2\", \"tags\": [\"tag2\", \"tag3\"]},\n",
    "    {\"id\": 3, \"name\": \"Item 3\", \"tags\": [\"tag1\", \"tag3\"]}\n",
    "]\n",
    "\n",
    "\n",
    "for item in data:\n",
    "    if \"tag1\" in item[\"tags\"]:\n",
    "        item[\"tags\"].append(\"tag4\")\n",
    "\n",
    "print(data)\n"
   ]
  },
  {
   "cell_type": "markdown",
   "metadata": {},
   "source": [
    "## 20\n"
   ]
  },
  {
   "cell_type": "code",
   "execution_count": 28,
   "metadata": {},
   "outputs": [
    {
     "name": "stdout",
     "output_type": "stream",
     "text": [
      "[{'id': 1, 'priority': 'High', 'completed': False}, {'id': 3, 'priority': 'Medium', 'completed': False}, {'id': 2, 'priority': 'Low', 'completed': True}]\n"
     ]
    }
   ],
   "source": [
    "# Setup Code\n",
    "tasks = [\n",
    "    {\"id\": 1, \"priority\": \"High\", \"completed\": False},\n",
    "    {\"id\": 2, \"priority\": \"Low\", \"completed\": True},\n",
    "    {\"id\": 3, \"priority\": \"Medium\", \"completed\": False},\n",
    "]\n",
    "\n",
    "priority_order = {\"High\": 1, \"Medium\": 2, \"Low\": 3}\n",
    "sorted_tasks = sorted(\n",
    "    tasks, key=lambda x: (x[\"completed\"], priority_order[x[\"priority\"]])\n",
    ")\n",
    "\n",
    "print(sorted_tasks)"
   ]
  }
 ],
 "metadata": {
  "kernelspec": {
   "display_name": "Python 3",
   "language": "python",
   "name": "python3"
  },
  "language_info": {
   "codemirror_mode": {
    "name": "ipython",
    "version": 3
   },
   "file_extension": ".py",
   "mimetype": "text/x-python",
   "name": "python",
   "nbconvert_exporter": "python",
   "pygments_lexer": "ipython3",
   "version": "3.10.2"
  }
 },
 "nbformat": 4,
 "nbformat_minor": 2
}
