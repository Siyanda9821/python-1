{
 "cells": [
  {
   "cell_type": "markdown",
   "metadata": {},
   "source": [
    "## Data Manipulation \n"
   ]
  },
  {
   "cell_type": "code",
   "execution_count": 1,
   "metadata": {},
   "outputs": [],
   "source": [
    "students = [\n",
    "    {\"name\": \"Alice\", \"grade\": 88},\n",
    "    {\"name\": \"Bob\", \"grade\": 75},\n",
    "    {\"name\": \"Charlie\", \"grade\": 93},\n",
    "]\n"
   ]
  },
  {
   "cell_type": "code",
   "execution_count": 2,
   "metadata": {},
   "outputs": [
    {
     "data": {
      "text/plain": [
       "[{'name': 'Charlie', 'grade': 93},\n",
       " {'name': 'Alice', 'grade': 88},\n",
       " {'name': 'Bob', 'grade': 75}]"
      ]
     },
     "execution_count": 2,
     "metadata": {},
     "output_type": "execute_result"
    }
   ],
   "source": [
    "students.sort(key=lambda x: x[\"grade\"], reverse=True)\n",
    "students\n"
   ]
  },
  {
   "cell_type": "markdown",
   "metadata": {},
   "source": [
    "## 2"
   ]
  },
  {
   "cell_type": "code",
   "execution_count": 9,
   "metadata": {},
   "outputs": [
    {
     "data": {
      "text/plain": [
       "[{'id': 1, 'name': 'Alice', 'salary': 50000},\n",
       " {'id': 2, 'name': 'Bob', 'salary': 60000}]"
      ]
     },
     "execution_count": 9,
     "metadata": {},
     "output_type": "execute_result"
    }
   ],
   "source": [
    "# Setup Code\n",
    "employees = [{\"id\": 1, \"name\": \"Alice\"}, {\"id\": 2, \"name\": \"Bob\"}]\n",
    "salaries = [{\"id\": 1, \"salary\": 50000}, {\"id\": 2, \"salary\": 60000}]\n",
    "# Expected Task: Merge these lists into a single list of dictionaries by matching the \"id\" field, including all keys.\n",
    "\n",
    "merged_list = []\n",
    "for emp in employees:\n",
    "    for sal in salaries:\n",
    "        if emp[\"id\"] == sal[\"id\"]:\n",
    "            merged_list.append({**emp, **sal})\n",
    "merged_list"
   ]
  },
  {
   "cell_type": "markdown",
   "metadata": {},
   "source": [
    "## 3"
   ]
  },
  {
   "cell_type": "code",
   "execution_count": 10,
   "metadata": {},
   "outputs": [
    {
     "data": {
      "text/plain": [
       "[{'id': 3, 'category': 'Electronics', 'price': 400}]"
      ]
     },
     "execution_count": 10,
     "metadata": {},
     "output_type": "execute_result"
    }
   ],
   "source": [
    "# Setup Code\n",
    "products = [\n",
    "    {\"id\": 1, \"category\": \"Electronics\", \"price\": 850},\n",
    "    {\"id\": 2, \"category\": \"Furniture\", \"price\": 1200},\n",
    "    {\"id\": 3, \"category\": \"Electronics\", \"price\": 400},\n",
    "]\n",
    "# Expected Task: Filter the list to include only products in the \"Electronics\" category with a price less than 500.\n",
    "\n",
    "filtered_products = []\n",
    "for product in products:\n",
    "    if product[\"category\"] == \"Electronics\" and product[\"price\"] < 500:\n",
    "        filtered_products.append(product)\n",
    "\n",
    "filtered_products"
   ]
  },
  {
   "cell_type": "markdown",
   "metadata": {},
   "source": [
    "## 4"
   ]
  },
  {
   "cell_type": "code",
   "execution_count": null,
   "metadata": {},
   "outputs": [
    {
     "data": {
      "text/plain": [
       "{'A': 3, 'B': 3, 'C': 1}"
      ]
     },
     "execution_count": 11,
     "metadata": {},
     "output_type": "execute_result"
    }
   ],
   "source": [
    "# Setup Code\n",
    "orders = [\n",
    "    {\n",
    "        \"order_id\": 1,\n",
    "        \"items\": [{\"product\": \"A\", \"quantity\": 2}, {\"product\": \"B\", \"quantity\": 3}],\n",
    "    },\n",
    "    {\n",
    "        \"order_id\": 2,\n",
    "        \"items\": [{\"product\": \"A\", \"quantity\": 1}, {\"product\": \"C\", \"quantity\": 1}],\n",
    "    },\n",
    "]\n",
    "# Expected Task: Transform this list into a dictionary where keys are product names and values are total quantities ordered across all orders.\n",
    "product_totals = {}\n",
    "\n",
    "for order in orders:\n",
    "    for item in order[\"items\"]:\n",
    "        product = item[\"product\"]\n",
    "        quantity = item[\"quantity\"]\n",
    "\n",
    "\n",
    "        if product in product_totals:  # Update quantity dictionary\n",
    "            product_totals[product] += quantity\n",
    "        else:\n",
    "            product_totals[product] = quantity\n",
    "product_totals"
   ]
  },
  {
   "cell_type": "markdown",
   "metadata": {},
   "source": [
    "## 5"
   ]
  },
  {
   "cell_type": "code",
   "execution_count": 12,
   "metadata": {},
   "outputs": [
    {
     "data": {
      "text/plain": [
       "{'Food': 250, 'Transport': 200}"
      ]
     },
     "execution_count": 12,
     "metadata": {},
     "output_type": "execute_result"
    }
   ],
   "source": [
    "# Setup Code\n",
    "transactions = [\n",
    "    {\"date\": \"2021-01-01\", \"amount\": 100, \"category\": \"Food\"},\n",
    "    {\"date\": \"2021-01-01\", \"amount\": 200, \"category\": \"Transport\"},\n",
    "    {\"date\": \"2021-01-02\", \"amount\": 150, \"category\": \"Food\"},\n",
    "]\n",
    "# Expected Task: Summarize the total amount spent per category.\n",
    "\n",
    "category_totals = {}\n",
    "\n",
    "for transaction in transactions:\n",
    "    category = transaction[\"category\"]\n",
    "    amount = transaction[\"amount\"]\n",
    "\n",
    "    # Update total amount in dictionary\n",
    "    if category in category_totals:\n",
    "        category_totals[category] += amount\n",
    "    else:\n",
    "        category_totals[category] = amount\n",
    "category_totals"
   ]
  },
  {
   "cell_type": "markdown",
   "metadata": {},
   "source": [
    "## 6"
   ]
  },
  {
   "cell_type": "code",
   "execution_count": 13,
   "metadata": {},
   "outputs": [
    {
     "data": {
      "text/plain": [
       "{'Alice': 300, 'Bob': 150}"
      ]
     },
     "execution_count": 13,
     "metadata": {},
     "output_type": "execute_result"
    }
   ],
   "source": [
    "# Setup Code\n",
    "sales = [\n",
    "    {\"salesperson\": \"Alice\", \"amount\": 200},\n",
    "    {\"salesperson\": \"Bob\", \"amount\": 150},\n",
    "    {\"salesperson\": \"Alice\", \"amount\": 100},\n",
    "]\n",
    "# Expected Task: Group sales by salesperson and calculate the total sales amount for each.\n",
    "\n",
    "sales_totals = {}\n",
    "\n",
    "for sale in sales:\n",
    "    salesperson = sale[\"salesperson\"]\n",
    "    amount = sale[\"amount\"]\n",
    "\n",
    "    if salesperson in sales_totals:  # Update sales in dictionary\n",
    "        sales_totals[salesperson] += amount\n",
    "    else:\n",
    "        sales_totals[salesperson] = amount\n",
    "\n",
    "sales_totals"
   ]
  },
  {
   "cell_type": "markdown",
   "metadata": {},
   "source": [
    "## 7"
   ]
  },
  {
   "cell_type": "markdown",
   "metadata": {},
   "source": [
    "## 8"
   ]
  },
  {
   "cell_type": "markdown",
   "metadata": {},
   "source": [
    "## 9"
   ]
  },
  {
   "cell_type": "markdown",
   "metadata": {},
   "source": [
    "## 10"
   ]
  },
  {
   "cell_type": "code",
   "execution_count": 21,
   "metadata": {},
   "outputs": [
    {
     "name": "stdout",
     "output_type": "stream",
     "text": [
      "The winner is: No winner yet\n"
     ]
    }
   ],
   "source": [
    "class WizardDuel:\n",
    "    def __init__(self, wizard1, wizard2, health1, health2):\n",
    "        self.wizard1 = wizard1\n",
    "        self.wizard2 = wizard2\n",
    "        self.health1 = health1\n",
    "        self.health2 = health2\n",
    "\n",
    "    def cast_spell(self, caster, damage):\n",
    "        # If Harry casts the spell, reduce Draco's health, otherwise reduce Harry's health\n",
    "        if caster == self.wizard1:\n",
    "            self.health2 -= damage\n",
    "        elif caster == self.wizard2:\n",
    "            self.health1 -= damage\n",
    "\n",
    "    def get_winner(self):\n",
    "        # Determine the winner based on health\n",
    "        if self.health1 <= 0 and self.health2 <= 0:\n",
    "            return \"It's a tie\"\n",
    "        elif self.health1 <= 0:\n",
    "            return self.wizard2\n",
    "        elif self.health2 <= 0:\n",
    "            return self.wizard1\n",
    "        return \"No winner yet\"\n",
    "\n",
    "\n",
    "# Example usage:\n",
    "duel = WizardDuel(\"Harry\", \"Draco\", 50, 40)\n",
    "duel.cast_spell(\"Harry\", 10)\n",
    "duel.cast_spell(\"Draco\", 5)\n",
    "winner = duel.get_winner()\n",
    "\n",
    "print(f\"The winner is: {winner}\")\n"
   ]
  },
  {
   "cell_type": "markdown",
   "metadata": {},
   "source": [
    "## 11"
   ]
  },
  {
   "cell_type": "code",
   "execution_count": null,
   "metadata": {},
   "outputs": [],
   "source": [
    "class PotionError(Exception):\n",
    "    pass\n",
    "\n",
    "\n",
    "def brew_potion(potion_name, ingredients):\n",
    "\n",
    "    required_ingredients = {\n",
    "        \"Love Potion\": [\"Rose Petal\", \"Unicorn Hair\"],\n",
    "        \"Invisibility Potion\": [\"Invisible Ink\", \"Dragon Scale\"],\n",
    "    }\n",
    "\n",
    "    if potion_name not in required_ingredients:\n",
    "        raise PotionError(f\"Potion {potion_name} is not recognized.\")\n",
    "\n",
    "    missing_ingredients = [\n",
    "        ingredient\n",
    "        for ingredient in required_ingredients[potion_name]\n",
    "        if ingredient not in ingredients\n",
    "    ]\n",
    "\n",
    "    if missing_ingredients:\n",
    "        raise PotionError(\n",
    "            f\"Missing ingredients for {potion_name}: {', '.join(missing_ingredients)}\"\n",
    "        )\n",
    "\n",
    "    return f\"{potion_name} brewed successfully!\"\n",
    "\n",
    "\n",
    "try:\n",
    "    result = brew_potion(\"Love Potion\", [\"Rose Petal\", \"Unicorn Hair\"])\n",
    "    print(result)\n",
    "except PotionError as e:\n",
    "    print(f\"Caught PotionError: {e}\")\n",
    "\n",
    "try:\n",
    "    result = brew_potion(\"Love Potion\", [\"Rose Petal\"])\n",
    "    print(result)\n",
    "except PotionError as e:\n",
    "    print(f\"Caught PotionError: {e}\")\n"
   ]
  },
  {
   "cell_type": "markdown",
   "metadata": {},
   "source": [
    "## 12"
   ]
  },
  {
   "cell_type": "code",
   "execution_count": 22,
   "metadata": {},
   "outputs": [
    {
     "data": {
      "text/plain": [
       "[{'title': 'Magical Hieroglyphs and Logograms', 'author': 'Bathilda Bagshot'}]"
      ]
     },
     "execution_count": 22,
     "metadata": {},
     "output_type": "execute_result"
    }
   ],
   "source": [
    "# Setup Code\n",
    "library = [\n",
    "    {\"title\": \"Unfogging the Future\", \"author\": \"Cassandra Vablatsky\"},\n",
    "    {\"title\": \"Magical Hieroglyphs and Logograms\", \"author\": \"Bathilda Bagshot\"},\n",
    "]\n",
    "# Expected Task: Use a list comprehension to select books written by Bathilda Bagshot.\n",
    "bathilda_books = [book for book in library if book[\"author\"] == \"Bathilda Bagshot\"]\n",
    "bathilda_books"
   ]
  },
  {
   "cell_type": "markdown",
   "metadata": {},
   "source": [
    "## 13"
   ]
  },
  {
   "cell_type": "code",
   "execution_count": null,
   "metadata": {},
   "outputs": [
    {
     "data": {
      "text/plain": [
       "{'Gryffindor': 95, 'Slytherin': 90}"
      ]
     },
     "execution_count": 23,
     "metadata": {},
     "output_type": "execute_result"
    }
   ],
   "source": [
    "# Setup Code\n",
    "house_points = [\n",
    "    {\"house\": \"Gryffindor\", \"points\": 35},\n",
    "    {\"house\": \"Slytherin\", \"points\": 50},\n",
    "    {\"house\": \"Gryffindor\", \"points\": 60},\n",
    "    {\"house\": \"Slytherin\", \"points\": 40},\n",
    "]\n",
    "# Expected Task: Aggregate points for each house and print the total.\n",
    "\n",
    "total_points = {}\n",
    "\n",
    "for entry in house_points:\n",
    "    house = entry[\"house\"]\n",
    "    points = entry[\"points\"]\n",
    "\n",
    "    if house in total_points:\n",
    "        total_points[house] += points\n",
    "    else:\n",
    "        total_points[house] = points\n",
    "total_points"
   ]
  },
  {
   "cell_type": "markdown",
   "metadata": {},
   "source": [
    "## 15"
   ]
  },
  {
   "cell_type": "code",
   "execution_count": 24,
   "metadata": {},
   "outputs": [
    {
     "data": {
      "text/plain": [
       "[{'name': 'Cloak of Invisibility', 'age': 657, 'power': 9.5},\n",
       " {'name': 'Resurrection Stone', 'age': 800, 'power': 7},\n",
       " {'name': 'Elder Wand', 'age': 1000, 'power': 10}]"
      ]
     },
     "execution_count": 24,
     "metadata": {},
     "output_type": "execute_result"
    }
   ],
   "source": [
    "# Setup Code\n",
    "artifacts = [\n",
    "    {\"name\": \"Cloak of Invisibility\", \"age\": 657, \"power\": 9.5},\n",
    "    {\"name\": \"Elder Wand\", \"age\": 1000, \"power\": 10},\n",
    "    {\"name\": \"Resurrection Stone\", \"age\": 800, \"power\": 7},\n",
    "]\n",
    "# Expected Task: Sort the artifacts first by age, then by power, using a lambda function.\n",
    "sorted_artifacts = sorted(artifacts, key=lambda x: (x[\"age\"], x[\"power\"]))\n",
    "sorted_artifacts"
   ]
  },
  {
   "cell_type": "markdown",
   "metadata": {},
   "source": [
    "## 16"
   ]
  },
  {
   "cell_type": "code",
   "execution_count": 25,
   "metadata": {},
   "outputs": [
    {
     "data": {
      "text/plain": [
       "'Albus Dumbledore is the Headmaster of Gryffindor.'"
      ]
     },
     "execution_count": 25,
     "metadata": {},
     "output_type": "execute_result"
    }
   ],
   "source": [
    "# Setup Code\n",
    "wizard = {\"name\": \"Albus Dumbledore\", \"title\": \"Headmaster\", \"house\": \"Gryffindor\"}\n",
    "# Expected Task: Use an f-string to create a profile string that includes the wizard's name, title, and house.\n",
    "profile = f\"{wizard['name']} is the {wizard['title']} of {wizard['house']}.\"\n",
    "profile"
   ]
  },
  {
   "cell_type": "markdown",
   "metadata": {},
   "source": [
    "## 17 "
   ]
  },
  {
   "cell_type": "code",
   "execution_count": 26,
   "metadata": {},
   "outputs": [
    {
     "data": {
      "text/plain": [
       "[('Harry', ['Fawkes']), ('Hermione', ['Dobby'])]"
      ]
     },
     "execution_count": 26,
     "metadata": {},
     "output_type": "execute_result"
    }
   ],
   "source": [
    "# Setup Code\n",
    "adopters = [(\"Harry\", \"Phoenix\"), (\"Hermione\", \"House Elf\")]\n",
    "creatures = [(\"Fawkes\", \"Phoenix\"), (\"Dobby\", \"House Elf\"), (\"Buckbeak\", \"Hippogriff\")]\n",
    "# Expected Task: Use `filter` and `map` to create a list of matches between adopters and creatures.\n",
    "matches = list(\n",
    "    map(\n",
    "        lambda adopter: (\n",
    "            adopter[0],\n",
    "            [creature[0] for creature in creatures if creature[1] == adopter[1]],\n",
    "        ),\n",
    "        adopters,\n",
    "    )\n",
    ")\n",
    "matches"
   ]
  }
 ],
 "metadata": {
  "kernelspec": {
   "display_name": "Python 3",
   "language": "python",
   "name": "python3"
  },
  "language_info": {
   "codemirror_mode": {
    "name": "ipython",
    "version": 3
   },
   "file_extension": ".py",
   "mimetype": "text/x-python",
   "name": "python",
   "nbconvert_exporter": "python",
   "pygments_lexer": "ipython3",
   "version": "3.10.2"
  }
 },
 "nbformat": 4,
 "nbformat_minor": 2
}
