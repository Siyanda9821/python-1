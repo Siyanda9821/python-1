{
 "cells": [
  {
   "cell_type": "markdown",
   "metadata": {},
   "source": [
    "# `Join`\n",
    "- List to a string "
   ]
  },
  {
   "cell_type": "code",
   "execution_count": 1,
   "metadata": {},
   "outputs": [
    {
     "data": {
      "text/plain": [
       "'🍇,🍊,🍐'"
      ]
     },
     "execution_count": 1,
     "metadata": {},
     "output_type": "execute_result"
    }
   ],
   "source": [
    "fruits = [\"🍇\",\"🍊\",\"🍐\"]\n",
    "\n",
    "\",\".join(fruits)"
   ]
  },
  {
   "cell_type": "code",
   "execution_count": 2,
   "metadata": {},
   "outputs": [
    {
     "data": {
      "text/plain": [
       "'🍇|🍊|🍐'"
      ]
     },
     "execution_count": 2,
     "metadata": {},
     "output_type": "execute_result"
    }
   ],
   "source": [
    "fruits = [\"🍇\", \"🍊\", \"🍐\"]\n",
    "\n",
    "\"|\".join(fruits)\n"
   ]
  },
  {
   "cell_type": "markdown",
   "metadata": {},
   "source": [
    "# `Split`\n",
    "- The opposite of `join`, String to List"
   ]
  },
  {
   "cell_type": "code",
   "execution_count": 3,
   "metadata": {},
   "outputs": [
    {
     "data": {
      "text/plain": [
       "['mint|ch', 'c', 'late|vanilla']"
      ]
     },
     "execution_count": 3,
     "metadata": {},
     "output_type": "execute_result"
    }
   ],
   "source": [
    "ice_cream = \"mint|chocolate|vanilla\"\n",
    "\n",
    "ice_cream.split('o')"
   ]
  },
  {
   "cell_type": "code",
   "execution_count": 1,
   "metadata": {},
   "outputs": [
    {
     "ename": "ValueError",
     "evalue": "empty separator",
     "output_type": "error",
     "traceback": [
      "\u001b[1;31m---------------------------------------------------------------------------\u001b[0m",
      "\u001b[1;31mValueError\u001b[0m                                Traceback (most recent call last)",
      "Cell \u001b[1;32mIn[1], line 3\u001b[0m\n\u001b[0;32m      1\u001b[0m ice_cream \u001b[38;5;241m=\u001b[39m \u001b[38;5;124m\"\u001b[39m\u001b[38;5;124mmint|chocolate|vanilla\u001b[39m\u001b[38;5;124m\"\u001b[39m\n\u001b[1;32m----> 3\u001b[0m \u001b[43mice_cream\u001b[49m\u001b[38;5;241;43m.\u001b[39;49m\u001b[43msplit\u001b[49m\u001b[43m(\u001b[49m\u001b[38;5;124;43m\"\u001b[39;49m\u001b[38;5;124;43m\"\u001b[39;49m\u001b[43m)\u001b[49m\n",
      "\u001b[1;31mValueError\u001b[0m: empty separator"
     ]
    }
   ],
   "source": [
    "ice_cream = \"mint|chocolate|vanilla\"\n",
    "\n",
    "ice_cream.split(\"\")\n"
   ]
  },
  {
   "cell_type": "code",
   "execution_count": null,
   "metadata": {},
   "outputs": [
    {
     "data": {
      "text/plain": [
       "'there is no time to save the world'"
      ]
     },
     "execution_count": 8,
     "metadata": {},
     "output_type": "execute_result"
    }
   ],
   "source": [
    "scrambled_message = \"world the save to time no is there\"\n",
    "new= scrambled_message.split(' ')\n",
    "word=new[::-1]\n",
    "\" \".join(word)"
   ]
  },
  {
   "cell_type": "code",
   "execution_count": 27,
   "metadata": {},
   "outputs": [
    {
     "name": "stdout",
     "output_type": "stream",
     "text": [
      "1.Dancing Queen\n",
      "2.Sweet Child O' Mine\n",
      "3.Piano Man\n",
      "4.Bohemian Rhapsody\n",
      "5.All that Jazz\n",
      "['Dancing Queen', \"Sweet Child O' Mine\", 'Piano Man', 'Bohemian Rhapsody', 'All that Jazz']\n"
     ]
    }
   ],
   "source": [
    "playlist= \"\"\"Dancing Queen;Sweet Child O' Mine;Piano Man;Bohemian Rhapsody;All that Jazz\"\"\"\n",
    "t=1\n",
    "new = playlist.split(\";\")\n",
    "for i in range(len(new)):\n",
    "    print(f\"{t}.{new[i]}\")\n",
    "    t+=1\n",
    "\n",
    "print(new)"
   ]
  },
  {
   "cell_type": "code",
   "execution_count": null,
   "metadata": {},
   "outputs": [
    {
     "name": "stdout",
     "output_type": "stream",
     "text": [
      "Original prices:  [1000, 1500, 400]\n",
      "[1000, 1500, 400, 600, 1000] [1000, 1500, 400, 800] [1000, 1500, 400, 600, 1000]\n"
     ]
    },
    {
     "ename": "",
     "evalue": "",
     "output_type": "error",
     "traceback": [
      "\u001b[1;31mThe Kernel crashed while executing code in the current cell or a previous cell. \n",
      "\u001b[1;31mPlease review the code in the cell(s) to identify a possible cause of the failure. \n",
      "\u001b[1;31mClick <a href='https://aka.ms/vscodeJupyterKernelCrash'>here</a> for more info. \n",
      "\u001b[1;31mView Jupyter <a href='command:jupyter.viewOutput'>log</a> for further details."
     ]
    }
   ],
   "source": [
    "prices = [1000, 1500, 400]\n",
    "print(\"Original prices: \", prices)\n",
    "prices1= prices[:]\n",
    "prices2=prices\n",
    "\n",
    "prices.append(600)\n",
    "prices1.append(800)\n",
    "prices2.append(1000)\n",
    "\n",
    "print(prices, prices1,prices2)"
   ]
  }
 ],
 "metadata": {
  "kernelspec": {
   "display_name": "Python 3",
   "language": "python",
   "name": "python3"
  },
  "language_info": {
   "codemirror_mode": {
    "name": "ipython",
    "version": 3
   },
   "file_extension": ".py",
   "mimetype": "text/x-python",
   "name": "python",
   "nbconvert_exporter": "python",
   "pygments_lexer": "ipython3",
   "version": "3.10.2"
  }
 },
 "nbformat": 4,
 "nbformat_minor": 2
}
