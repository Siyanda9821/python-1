{
 "cells": [
  {
   "cell_type": "code",
   "execution_count": null,
   "metadata": {},
   "outputs": [
    {
     "name": "stdout",
     "output_type": "stream",
     "text": [
      "['Infinite Jest', 'The Catcher in the Rye', 'Sapiens', 'A Brief History of Time', 'Clean Code']\n"
     ]
    }
   ],
   "source": [
    "books = [\n",
    "    {\"title\": \"Infinite Jest\", \"rating\": 5, \"genre\": \"Fiction\"},\n",
    "    {\"title\": \"The Catcher in the Rye\", \"rating\": 3.9, \"genre\": \"Fiction\"},\n",
    "    {\"title\": \"Sapiens\", \"rating\": 2, \"genre\": \"History\"},\n",
    "    {\"title\": \"A Brief History of Time\", \"rating\": 2, \"genre\": \"Science\"},\n",
    "    {\"title\": \"Clean Code\", \"rating\": 4.7, \"genre\": \"Technology\"},\n",
    "]\n",
    "new=[]\n",
    "\n",
    "for book in books:\n",
    "    new.append((book[\"title\"].replace(\",\",\"\")))\n",
    "print(new)"
   ]
  },
  {
   "cell_type": "code",
   "execution_count": 18,
   "metadata": {},
   "outputs": [
    {
     "name": "stdout",
     "output_type": "stream",
     "text": [
      "['Infinite Jest', 'The Catcher in the Rye']\n"
     ]
    }
   ],
   "source": [
    "fiction_books = []\n",
    "\n",
    "for book in books:\n",
    "    if book[\"genre\"] == \"Fiction\":\n",
    "        fiction_books.append(book[\"title\"])\n",
    "\n",
    "print(fiction_books)\n"
   ]
  },
  {
   "cell_type": "code",
   "execution_count": null,
   "metadata": {},
   "outputs": [
    {
     "name": "stdout",
     "output_type": "stream",
     "text": [
      " The Highest rated books are: Infinite Jest, Clean Code\n"
     ]
    }
   ],
   "source": [
    "high_rated_books = []\n",
    "\n",
    "for book in books:\n",
    "    if book[\"rating\"] >= 4.7:\n",
    "        high_rated_books.append(book[\"title\"])\n",
    "\n",
    "if len(high_rated_books)>1:\n",
    "    output = \"The Highest rated books are\"\n",
    "elif len(high_rated_books) == 1:\n",
    "    output = \"The Highest rated book is\"\n",
    "else:\n",
    "    output=\"There are no high rated books\"\n",
    "\n",
    "\n",
    "print((f\" {output}: {high_rated_books}\").replace(\"[\",\"\").replace(\"]\",\"\").replace(\"\\'\",\"\"))\n"
   ]
  },
  {
   "cell_type": "code",
   "execution_count": null,
   "metadata": {},
   "outputs": [
    {
     "name": "stdout",
     "output_type": "stream",
     "text": [
      "[1, 2, 3], and 5\n"
     ]
    }
   ],
   "source": [
    "marks=[1,2,3,4,5]\n",
    "\n",
    "print(f\"{marks[:len(marks)-2]}, and {marks[-1]}\")"
   ]
  },
  {
   "cell_type": "code",
   "execution_count": null,
   "metadata": {},
   "outputs": [
    {
     "data": {
      "text/plain": [
       "[{'title': 'Infinite Jest', 'rating': 5, 'genre': 'Fiction'},\n",
       " {'title': 'The Catcher in the Rye', 'rating': 3.9, 'genre': 'Fiction'},\n",
       " {'title': 'Sapiens', 'rating': 2, 'genre': 'History'},\n",
       " {'title': 'A Brief History of Time', 'rating': 2, 'genre': 'Science'},\n",
       " {'title': 'Clean Code', 'rating': 4.7, 'genre': 'Technology'}]"
      ]
     },
     "execution_count": 31,
     "metadata": {},
     "output_type": "execute_result"
    }
   ],
   "source": [
    "books = [\n",
    "    {\"title\": \"Infinite Jest\", \"rating\": 5, \"genre\": \"Fiction\"},\n",
    "    {\"title\": \"The Catcher in the Rye\", \"rating\": 3.9, \"genre\": \"Fiction\"},\n",
    "    {\"title\": \"Sapiens\", \"rating\": 2, \"genre\": \"History\"},\n",
    "    {\"title\": \"A Brief History of Time\", \"rating\": 2, \"genre\": \"Science\"},\n",
    "    {\"title\": \"Clean Code\", \"rating\": 4.7, \"genre\": \"Technology\"},\n",
    "]\n",
    "query= input(\"do you want to add?(Y/N) \").strip().upper()\n",
    "\n",
    "while query==\"Y\":\n",
    "\n",
    "    name = input(\"Enter the name of book: \")\n",
    "    rating=input(\"rating: \")\n",
    "    genre=input(\"genre: \")\n",
    "    product = {\"title\": name, \"rating\": rating, \"genre\": genre}\n",
    "    books.append(product)\n",
    "    query = input(\"do you want to add?(Y/N) \")\n",
    "\n",
    "books"
   ]
  }
 ],
 "metadata": {
  "kernelspec": {
   "display_name": "Python 3",
   "language": "python",
   "name": "python3"
  },
  "language_info": {
   "codemirror_mode": {
    "name": "ipython",
    "version": 3
   },
   "file_extension": ".py",
   "mimetype": "text/x-python",
   "name": "python",
   "nbconvert_exporter": "python",
   "pygments_lexer": "ipython3",
   "version": "3.10.2"
  }
 },
 "nbformat": 4,
 "nbformat_minor": 2
}
