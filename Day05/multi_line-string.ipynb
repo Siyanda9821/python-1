{
 "cells": [
  {
   "cell_type": "markdown",
   "metadata": {},
   "source": [
    "# Multi line string \n",
    "1. Using `\"\"` or `''`\n",
    "2. Triple quotes\n",
    "3. works with fstring"
   ]
  },
  {
   "cell_type": "code",
   "execution_count": null,
   "metadata": {},
   "outputs": [],
   "source": [
    "mgs = \"\"\n",
    "msg2=''"
   ]
  },
  {
   "cell_type": "code",
   "execution_count": 2,
   "metadata": {},
   "outputs": [
    {
     "name": "stdout",
     "output_type": "stream",
     "text": [
      "ArithmeticError \n",
      " wawawa\n"
     ]
    }
   ],
   "source": [
    "msg3=\"ArithmeticError \\n wawawa\"\n",
    "print(msg3)"
   ]
  },
  {
   "cell_type": "code",
   "execution_count": null,
   "metadata": {},
   "outputs": [
    {
     "name": "stdout",
     "output_type": "stream",
     "text": [
      "This is new\n",
      "what are we doing \n",
      "who are we fooling\n"
     ]
    }
   ],
   "source": [
    "msg4=\"\"\"This is new\n",
    "what are we doing\n",
    "who are we fooling\"\"\"\n",
    "\n",
    "print(msg4)"
   ]
  }
 ],
 "metadata": {
  "kernelspec": {
   "display_name": "Python 3",
   "language": "python",
   "name": "python3"
  },
  "language_info": {
   "codemirror_mode": {
    "name": "ipython",
    "version": 3
   },
   "file_extension": ".py",
   "mimetype": "text/x-python",
   "name": "python",
   "nbconvert_exporter": "python",
   "pygments_lexer": "ipython3",
   "version": "3.10.2"
  }
 },
 "nbformat": 4,
 "nbformat_minor": 2
}
