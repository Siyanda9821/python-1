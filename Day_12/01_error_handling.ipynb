{
 "cells": [
  {
   "cell_type": "code",
   "execution_count": null,
   "metadata": {},
   "outputs": [],
   "source": [
    "def math_divide(n1,n2):\n",
    "    return n1/n2\n",
    "\n",
    "print(math_divide(10,0))"
   ]
  },
  {
   "cell_type": "code",
   "execution_count": null,
   "metadata": {},
   "outputs": [],
   "source": [
    "from datetime import datetime\n",
    "\n",
    "def get_age(year_birth):\n",
    "    current_year = int(datetime.now().year)\n",
    "    if year_birth<=0:\n",
    "        raise ValueError(\"That's an invalid year: \")\n",
    "    elif year_birth>current_year:\n",
    "        raise ValueError(\"You're not flash from the future\")\n",
    "    try:\n",
    "        age= int(current_year)-int(year_birth)\n",
    "        return f\"current age is: {age}\"\n",
    "    except ValueError:\n",
    "        f\"Enter the birth year using numbers!!!!!\"\n",
    "\n",
    "year_birth = input(\"Enter year of birth: \")\n",
    "print(get_age(year_birth))"
   ]
  },
  {
   "cell_type": "code",
   "execution_count": null,
   "metadata": {},
   "outputs": [
    {
     "name": "stdout",
     "output_type": "stream",
     "text": [
      "Current age is: 0\n"
     ]
    },
    {
     "ename": "",
     "evalue": "",
     "output_type": "error",
     "traceback": [
      "\u001b[1;31mThe Kernel crashed while executing code in the current cell or a previous cell. \n",
      "\u001b[1;31mPlease review the code in the cell(s) to identify a possible cause of the failure. \n",
      "\u001b[1;31mClick <a href='https://aka.ms/vscodeJupyterKernelCrash'>here</a> for more info. \n",
      "\u001b[1;31mView Jupyter <a href='command:jupyter.viewOutput'>log</a> for further details."
     ]
    }
   ],
   "source": [
    "from datetime import datetime\n",
    "\n",
    "\n",
    "def get_age(year_birth):\n",
    "    current_year = datetime.now().year\n",
    "\n",
    "    try:\n",
    "        year_birth = int(year_birth)  # Convert input to integer\n",
    "\n",
    "        if year_birth < 0:\n",
    "            return \"That's an invalid year.\"\n",
    "        elif year_birth > current_year:\n",
    "            return \"You're not Flash from the future!\"\n",
    "\n",
    "        age = current_year - year_birth\n",
    "        return f\"Current age is: {age}\"\n",
    "\n",
    "    except ValueError:\n",
    "        return \"Enter the birth year using numbers!!!!!\"\n",
    "\n",
    "\n",
    "year_birth = input(\"Enter year of birth: \")\n",
    "print(get_age(year_birth))\n"
   ]
  }
 ],
 "metadata": {
  "kernelspec": {
   "display_name": "Python 3",
   "language": "python",
   "name": "python3"
  },
  "language_info": {
   "codemirror_mode": {
    "name": "ipython",
    "version": 3
   },
   "file_extension": ".py",
   "mimetype": "text/x-python",
   "name": "python",
   "nbconvert_exporter": "python",
   "pygments_lexer": "ipython3",
   "version": "3.10.2"
  }
 },
 "nbformat": 4,
 "nbformat_minor": 2
}
