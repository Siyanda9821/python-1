{
 "cells": [
  {
   "cell_type": "code",
   "execution_count": 2,
   "metadata": {},
   "outputs": [],
   "source": [
    "import requests"
   ]
  },
  {
   "cell_type": "code",
   "execution_count": 5,
   "metadata": {},
   "outputs": [
    {
     "data": {
      "text/plain": [
       "{'location': {'name': 'Cape Town',\n",
       "  'region': 'Western Cape',\n",
       "  'country': 'South Africa',\n",
       "  'lat': -33.9167,\n",
       "  'lon': 18.4167,\n",
       "  'tz_id': 'Africa/Johannesburg',\n",
       "  'localtime_epoch': 1742808142,\n",
       "  'localtime': '2025-03-24 11:22'},\n",
       " 'current': {'last_updated_epoch': 1742807700,\n",
       "  'last_updated': '2025-03-24 11:15',\n",
       "  'temp_c': 22.4,\n",
       "  'temp_f': 72.3,\n",
       "  'is_day': 1,\n",
       "  'condition': {'text': 'Partly cloudy',\n",
       "   'icon': '//cdn.weatherapi.com/weather/64x64/day/116.png',\n",
       "   'code': 1003},\n",
       "  'wind_mph': 10.5,\n",
       "  'wind_kph': 16.9,\n",
       "  'wind_degree': 335,\n",
       "  'wind_dir': 'NNW',\n",
       "  'pressure_mb': 1016.0,\n",
       "  'pressure_in': 30.0,\n",
       "  'precip_mm': 0.0,\n",
       "  'precip_in': 0.0,\n",
       "  'humidity': 65,\n",
       "  'cloud': 75,\n",
       "  'feelslike_c': 24.7,\n",
       "  'feelslike_f': 76.5,\n",
       "  'windchill_c': 19.8,\n",
       "  'windchill_f': 67.6,\n",
       "  'heatindex_c': 19.8,\n",
       "  'heatindex_f': 67.6,\n",
       "  'dewpoint_c': 14.2,\n",
       "  'dewpoint_f': 57.6,\n",
       "  'vis_km': 10.0,\n",
       "  'vis_miles': 6.0,\n",
       "  'uv': 6.3,\n",
       "  'gust_mph': 13.2,\n",
       "  'gust_kph': 21.2}}"
      ]
     },
     "execution_count": 5,
     "metadata": {},
     "output_type": "execute_result"
    }
   ],
   "source": [
    "API = \"http://api.weatherapi.com/v1/current.json?key=a2222f1e4cf54813a2b84633252403&q=Cape Town&aqi=no\"\n",
    "response = requests.get(API, verify=False)\n",
    "one = response.json()\n",
    "one"
   ]
  },
  {
   "cell_type": "code",
   "execution_count": null,
   "metadata": {},
   "outputs": [
    {
     "data": {
      "text/plain": [
       "22.3"
      ]
     },
     "execution_count": 23,
     "metadata": {},
     "output_type": "execute_result"
    }
   ],
   "source": [
    "def get_city_temp(city_name):\n",
    "    API = f\"http://api.weatherapi.com/v1/current.json?key=a2222f1e4cf54813a2b84633252403&q={city_name}&aqi=no\"\n",
    "    response = requests.get(API, verify=False)\n",
    "    city_weather = response.json()\n",
    "    temp=city_weather['current']['temp_c']\n",
    "\n",
    "    return city_weather[\"current\"][\"temp_c\"]\n",
    "\n",
    "\n",
    "get_city_temp(\"cape town\")\n"
   ]
  },
  {
   "cell_type": "code",
   "execution_count": 22,
   "metadata": {},
   "outputs": [
    {
     "data": {
      "text/plain": [
       "'The temperature in Cape Town is 22.3°C'"
      ]
     },
     "execution_count": 22,
     "metadata": {},
     "output_type": "execute_result"
    }
   ],
   "source": [
    "import requests\n",
    "\n",
    "\n",
    "def get_city_temp(city_name):\n",
    "    API = f\"http://api.weatherapi.com/v1/current.json?key=a2222f1e4cf54813a2b84633252403&q={city_name}&aqi=no\"\n",
    "    response = requests.get(API, verify=False)\n",
    "    city_weather = response.json()\n",
    "    return f\"The temperature in {city_weather['location']['name']} is {city_weather['current']['temp_c']}°C\"\n",
    "\n",
    "\n",
    "# The temperature in Cape town is 24°C\n",
    "get_city_temp(\"Durban\")\n",
    "get_city_temp(\"cape town\")\n"
   ]
  },
  {
   "cell_type": "code",
   "execution_count": null,
   "metadata": {},
   "outputs": [
    {
     "data": {
      "text/plain": [
       "22.4"
      ]
     },
     "execution_count": 8,
     "metadata": {},
     "output_type": "execute_result"
    }
   ],
   "source": [
    "def get_city_temp(city_name):\n",
    "    API= f\"http://api.weatherapi.com/v1/current.json?key=a2222f1e4cf54813a2b84633252403&q={city_name}&aqi=no\""
   ]
  }
 ],
 "metadata": {
  "kernelspec": {
   "display_name": "Python 3",
   "language": "python",
   "name": "python3"
  },
  "language_info": {
   "codemirror_mode": {
    "name": "ipython",
    "version": 3
   },
   "file_extension": ".py",
   "mimetype": "text/x-python",
   "name": "python",
   "nbconvert_exporter": "python",
   "pygments_lexer": "ipython3",
   "version": "3.10.2"
  }
 },
 "nbformat": 4,
 "nbformat_minor": 2
}
