{
 "cells": [
  {
   "cell_type": "code",
   "execution_count": null,
   "metadata": {},
   "outputs": [],
   "source": [
    "product_data = \"\"\"\n",
    "[\n",
    "    {\n",
    "        \"id\": 1,\n",
    "        \"name\": \"Wireless Headphones\",\n",
    "        \"category\": \"Electronics\",\n",
    "        \"inStock\": true,\n",
    "        \"price\": 199.99\n",
    "    },\n",
    "    {\n",
    "        \"id\": 2,\n",
    "        \"name\": \"Bluetooth Speaker\",\n",
    "        \"category\": \"Electronics\",\n",
    "        \"inStock\": false,\n",
    "        \"price\": 99.99\n",
    "    },\n",
    "    {\n",
    "        \"id\": 3,\n",
    "        \"name\": \"Smartwatch\",\n",
    "        \"category\": \"Wearables\",\n",
    "        \"inStock\": true,\n",
    "        \"price\": 149.99\n",
    "    }\n",
    "]\n",
    "\"\"\"\n"
   ]
  },
  {
   "cell_type": "markdown",
   "metadata": {},
   "source": [
    "## Task \n",
    "- For each product that is in stock, reduce the product's price by 7% (i.e., apply a discount) and round off to 2 decimal points.\n",
    "- Save the updated JSON data to a file named \"discounted_products.json\"."
   ]
  },
  {
   "cell_type": "code",
   "execution_count": 2,
   "metadata": {},
   "outputs": [],
   "source": [
    "import json\n",
    "\n",
    "products = json.loads(product_data)\n",
    "\n",
    "for product in products:\n",
    "    if product[\"inStock\"]:\n",
    "        product[\"price\"] = round(product[\"price\"] * 0.93, 2)"
   ]
  },
  {
   "cell_type": "code",
   "execution_count": 3,
   "metadata": {},
   "outputs": [
    {
     "name": "stdout",
     "output_type": "stream",
     "text": [
      "[{'id': 1, 'name': 'Wireless Headphones', 'category': 'Electronics', 'inStock': True, 'price': 185.99}, {'id': 2, 'name': 'Bluetooth Speaker', 'category': 'Electronics', 'inStock': False, 'price': 99.99}, {'id': 3, 'name': 'Smartwatch', 'category': 'Wearables', 'inStock': True, 'price': 139.49}]\n"
     ]
    }
   ],
   "source": [
    "print(products)"
   ]
  },
  {
   "cell_type": "code",
   "execution_count": 5,
   "metadata": {},
   "outputs": [],
   "source": [
    "file_name = \"discounted_products.json\"\n",
    "with open(file_name, \"w\") as file:\n",
    "    json.dump(products, file, indent=4)\n"
   ]
  }
 ],
 "metadata": {
  "kernelspec": {
   "display_name": ".venv",
   "language": "python",
   "name": "python3"
  },
  "language_info": {
   "codemirror_mode": {
    "name": "ipython",
    "version": 3
   },
   "file_extension": ".py",
   "mimetype": "text/x-python",
   "name": "python",
   "nbconvert_exporter": "python",
   "pygments_lexer": "ipython3",
   "version": "3.13.2"
  }
 },
 "nbformat": 4,
 "nbformat_minor": 2
}
