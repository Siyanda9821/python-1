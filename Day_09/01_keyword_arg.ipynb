{
 "cells": [
  {
   "cell_type": "markdown",
   "metadata": {},
   "source": [
    "# Keyword Arguments\n",
    "- Positional parameters/arguments *(mapping based on the position)*\n",
    "- Keyword arguments *(mapping based on Keyword)*\n",
    "- positional must come before keywords\n",
    "- number of parameters and arguments has to be the same "
   ]
  },
  {
   "cell_type": "code",
   "execution_count": 1,
   "metadata": {},
   "outputs": [],
   "source": [
    "def driving_test(name, age, car):  # Parameter (Matching based on position)\n",
    "    if age >= 18:\n",
    "        return f\"{name} is eligible for driving test. You will be tested with {car}\"\n",
    "    else:\n",
    "        return \"Try again after few years\"\n"
   ]
  },
  {
   "cell_type": "code",
   "execution_count": 2,
   "metadata": {},
   "outputs": [
    {
     "data": {
      "text/plain": [
       "'15 is eligible for driving test. You will be tested with 52'"
      ]
     },
     "execution_count": 2,
     "metadata": {},
     "output_type": "execute_result"
    }
   ],
   "source": [
    "driving_test(15, 20, 52)# it can accept any data type?\n"
   ]
  },
  {
   "cell_type": "code",
   "execution_count": 3,
   "metadata": {},
   "outputs": [
    {
     "data": {
      "text/plain": [
       "'Hyundai i10 is eligible for driving test. You will be tested with Diyali'"
      ]
     },
     "execution_count": 3,
     "metadata": {},
     "output_type": "execute_result"
    }
   ],
   "source": [
    "driving_test(\"Hyundai i10\", 19, \"Diyali\") # Position Arguments\n"
   ]
  },
  {
   "cell_type": "code",
   "execution_count": 4,
   "metadata": {},
   "outputs": [
    {
     "data": {
      "text/plain": [
       "'Diyali is eligible for driving test. You will be tested with Hyundai i10'"
      ]
     },
     "execution_count": 4,
     "metadata": {},
     "output_type": "execute_result"
    }
   ],
   "source": [
    "driving_test(car=\"Hyundai i10\", age=19, name=\"Diyali\")  # Keyword Arguments\n"
   ]
  }
 ],
 "metadata": {
  "kernelspec": {
   "display_name": "Python 3",
   "language": "python",
   "name": "python3"
  },
  "language_info": {
   "codemirror_mode": {
    "name": "ipython",
    "version": 3
   },
   "file_extension": ".py",
   "mimetype": "text/x-python",
   "name": "python",
   "nbconvert_exporter": "python",
   "pygments_lexer": "ipython3",
   "version": "3.10.2"
  }
 },
 "nbformat": 4,
 "nbformat_minor": 2
}
