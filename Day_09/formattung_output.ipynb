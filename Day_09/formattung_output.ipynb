{
 "cells": [
  {
   "cell_type": "code",
   "execution_count": 6,
   "metadata": {},
   "outputs": [
    {
     "name": "stdout",
     "output_type": "stream",
     "text": [
      "2025-03-03 13:48:47.665347\n"
     ]
    }
   ],
   "source": [
    "from datetime import datetime\n",
    "import time\n",
    "\n",
    "now = datetime.now()\n",
    "print(now)"
   ]
  },
  {
   "cell_type": "code",
   "execution_count": 7,
   "metadata": {},
   "outputs": [
    {
     "name": "stdout",
     "output_type": "stream",
     "text": [
      "2025-03-03 13:50:06.772175\n",
      "The current date is: 03-03-2025\n"
     ]
    }
   ],
   "source": [
    "from tkinter import Y\n",
    "\n",
    "\n",
    "now = datetime.now()\n",
    "print(now)\n",
    "\n",
    "\n",
    "print(f\"The current date is: {now:%d-%m-%Y}\")"
   ]
  },
  {
   "cell_type": "code",
   "execution_count": 10,
   "metadata": {},
   "outputs": [
    {
     "name": "stdout",
     "output_type": "stream",
     "text": [
      "The current date is: 2025-03-03\n"
     ]
    }
   ],
   "source": [
    "print(f\"The current date is: {now:%Y-%m-%d}\")\n"
   ]
  },
  {
   "cell_type": "code",
   "execution_count": null,
   "metadata": {},
   "outputs": [
    {
     "name": "stdout",
     "output_type": "stream",
     "text": [
      " =======Spaghetti Carbonara======= \n",
      "- 200g spaghetti\n",
      "- 100g pancetta\n",
      "- 2 eggs\n",
      "- 1/2 cup grated Parmesan\n",
      "- 1 clove garlic\n",
      "Serves: 4 people\n"
     ]
    }
   ],
   "source": [
    "from os import name\n",
    "\n",
    "\n",
    "recipe = {\n",
    "    \"name\": \"Spaghetti Carbonara\",\n",
    "    \"servings\": 4,\n",
    "    \"ingredients\": [\n",
    "        \"200g spaghetti\",\n",
    "        \"100g pancetta\",\n",
    "        \"2 eggs\",\n",
    "        \"1/2 cup grated Parmesan\",\n",
    "        \"1 clove garlic\",\n",
    "    ],\n",
    "}\n",
    "\n",
    "# Task 1\n",
    "# ======= Spaghetti Carbonara =======\n",
    "# - 200g spaghetti\n",
    "# - 100g pancetta\n",
    "# - 2 eggs\n",
    "# - 1/2 cup grated Parmesan\n",
    "# - 1 clove garlic\n",
    "# Serves: 4 people\n",
    "\n",
    "\n",
    "# print(f\"{recipe['name']:==^20}\")\n",
    "# for ingredient in recipe[\"ingredients\"]:\n",
    "#     print(f\"- {ingredient}\")\n",
    "# print(f\"Serves: {recipe['servings']} people\")\n",
    "\n",
    "def print_recipe(recipe):\n",
    "    print(f\" {recipe['name']:=^33} \")\n",
    "    for ingredient in recipe[\"ingredients\"]:\n",
    "        print(f\"- {ingredient}\")\n",
    "    print(f\"Serves: {recipe['servings']} people\")\n",
    "\n",
    "\n",
    "print_recipe(recipe)"
   ]
  },
  {
   "cell_type": "code",
   "execution_count": 48,
   "metadata": {},
   "outputs": [
    {
     "name": "stdout",
     "output_type": "stream",
     "text": [
      " =======Spaghetti Carbonara======= \n",
      "- 200g spaghetti\n",
      "- 100g pancetta\n",
      "- 2 eggs\n",
      "- 1/2 cup grated Parmesan\n",
      "- 1 clove garlic\n",
      "Serves: 4 people\n"
     ]
    }
   ],
   "source": [
    "def print_recipe(recipe):\n",
    "    print(f\" {recipe['name']:=^33} \")\n",
    "    [print(f\"- {ingredient}\") for ingredient in recipe[\"ingredients\"]]\n",
    "    print(f\"Serves: {recipe['servings']} people\")\n",
    "\n",
    "\n",
    "print_recipe(recipe)\n"
   ]
  },
  {
   "cell_type": "code",
   "execution_count": 49,
   "metadata": {},
   "outputs": [
    {
     "name": "stdout",
     "output_type": "stream",
     "text": [
      " =======Spaghetti Carbonara======= \n",
      "- 200g spaghetti\n",
      "- 100g pancetta\n",
      "- 2 eggs\n",
      "- 1/2 cup grated Parmesan\n",
      "- 1 clove garlic\n",
      "Serves: 4 people\n"
     ]
    }
   ],
   "source": [
    "def print_recipe(name, ingredients, servings):\n",
    "    print(f\" {name:=^33} \")\n",
    "    for ingredient in ingredients:\n",
    "        print(f\"- {ingredient}\")\n",
    "    print(f\"Serves: {servings} people\")\n",
    "\n",
    "\n",
    "print_recipe(**recipe)\n"
   ]
  }
 ],
 "metadata": {
  "kernelspec": {
   "display_name": "Python 3",
   "language": "python",
   "name": "python3"
  },
  "language_info": {
   "codemirror_mode": {
    "name": "ipython",
    "version": 3
   },
   "file_extension": ".py",
   "mimetype": "text/x-python",
   "name": "python",
   "nbconvert_exporter": "python",
   "pygments_lexer": "ipython3",
   "version": "3.10.2"
  }
 },
 "nbformat": 4,
 "nbformat_minor": 2
}
