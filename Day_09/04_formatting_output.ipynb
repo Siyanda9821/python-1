{
 "cells": [
  {
   "cell_type": "code",
   "execution_count": null,
   "metadata": {},
   "outputs": [
    {
     "name": "stdout",
     "output_type": "stream",
     "text": [
      "A's salary is R1,500,000\n",
      "B's salary is R1_500_000\n"
     ]
    }
   ],
   "source": [
    "salary = 1_500_000  # DX ⬆️\n",
    "\n",
    "# Money formatter\n",
    "print(f\"A's salary is R{salary:,}\")  # Improves UX\n",
    "print(f\"B's salary is R{salary:_}\")\n"
   ]
  },
  {
   "cell_type": "code",
   "execution_count": 8,
   "metadata": {},
   "outputs": [
    {
     "name": "stdout",
     "output_type": "stream",
     "text": [
      "3.141592653589793\n",
      "The PI value is: 3\n",
      "The PI value is: 3.14\n",
      "The PI value is: 3.14\n",
      "The PI value is: 3.142\n"
     ]
    }
   ],
   "source": [
    "from math import pi, cos  # Importing from inbuilt package\n",
    "# from <package_name> import <values>, <function>\n",
    "\n",
    "print(pi)\n",
    "print(f\"The PI value is: {round(pi)}\")\n",
    "print(f\"The PI value is: {round(pi, 2)}\")\n",
    "print(f\"The PI value is: {pi:.2f}\")\n",
    "print(f\"The PI value is: {pi:.3f}\")  # round-off\n"
   ]
  },
  {
   "cell_type": "code",
   "execution_count": 9,
   "metadata": {},
   "outputs": [
    {
     "name": "stdout",
     "output_type": "stream",
     "text": [
      "A's salary is R1,000,000.378\n",
      "A's salary is R1_000_000.378\n"
     ]
    }
   ],
   "source": [
    "# Rounding off and using the comma (,) separator\n",
    "# Round off decimal points &  Comma separator\n",
    "print(f\"A's salary is R{1000000.377833:,.3f}\")\n",
    "print(f\"A's salary is R{1000000.377833:_.3f}\")"
   ]
  },
  {
   "cell_type": "markdown",
   "metadata": {},
   "source": [
    "# Padding \n",
    "\n",
    "- print(f\"{name:>20}:\"), space will be on the left\n",
    "- print(f\"{name:<20}:\"), space will be on the right\n",
    "- print(f\"{name:^20}:\"), center padding- spaceL=sapceR\n",
    "\n",
    "- print(f\"{name:=>20}:\") space is replaced by = \n",
    "\n",
    "\n",
    "\n"
   ]
  },
  {
   "cell_type": "code",
   "execution_count": 10,
   "metadata": {},
   "outputs": [
    {
     "name": "stdout",
     "output_type": "stream",
     "text": [
      "2025-03-04 22:53:10.148905\n"
     ]
    }
   ],
   "source": [
    "from datetime import datetime\n",
    "import time\n",
    "\n",
    "now = datetime.now()\n",
    "print(now)"
   ]
  },
  {
   "cell_type": "code",
   "execution_count": 11,
   "metadata": {},
   "outputs": [
    {
     "name": "stdout",
     "output_type": "stream",
     "text": [
      "2025-03-04 22:53:10.173686\n",
      "The current date is: 04-03-2025\n"
     ]
    }
   ],
   "source": [
    "from tkinter import Y\n",
    "\n",
    "\n",
    "now = datetime.now()\n",
    "print(now)\n",
    "\n",
    "\n",
    "print(f\"The current date is: {now:%d-%m-%Y}\")"
   ]
  },
  {
   "cell_type": "code",
   "execution_count": 12,
   "metadata": {},
   "outputs": [
    {
     "name": "stdout",
     "output_type": "stream",
     "text": [
      "The current date is: 2025-03-04\n"
     ]
    }
   ],
   "source": [
    "print(f\"The current date is: {now:%Y-%m-%d}\")\n"
   ]
  },
  {
   "cell_type": "markdown",
   "metadata": {},
   "source": [
    "# Examples"
   ]
  },
  {
   "cell_type": "code",
   "execution_count": 5,
   "metadata": {},
   "outputs": [
    {
     "name": "stdout",
     "output_type": "stream",
     "text": [
      " =======Spaghetti Carbonara======= \n",
      "- 200g spaghetti\n",
      "- 100g pancetta\n",
      "- 2 eggs\n",
      "- 1/2 cup grated Parmesan\n",
      "- 1 clove garlic\n",
      "Serves: 4 people\n"
     ]
    }
   ],
   "source": [
    "from os import name\n",
    "\n",
    "\n",
    "recipe = {\n",
    "    \"name\": \"Spaghetti Carbonara\",\n",
    "    \"servings\": 4,\n",
    "    \"ingredients\": [\n",
    "        \"200g spaghetti\",\n",
    "        \"100g pancetta\",\n",
    "        \"2 eggs\",\n",
    "        \"1/2 cup grated Parmesan\",\n",
    "        \"1 clove garlic\",\n",
    "    ],\n",
    "}\n",
    "\n",
    "# Task 1\n",
    "# ======= Spaghetti Carbonara =======\n",
    "# - 200g spaghetti\n",
    "# - 100g pancetta\n",
    "# - 2 eggs\n",
    "# - 1/2 cup grated Parmesan\n",
    "# - 1 clove garlic\n",
    "# Serves: 4 people\n",
    "\n",
    "\n",
    "# print(f\"{recipe['name']:==^20}\")\n",
    "# for ingredient in recipe[\"ingredients\"]:\n",
    "#     print(f\"- {ingredient}\")\n",
    "# print(f\"Serves: {recipe['servings']} people\")\n",
    "\n",
    "def print_recipe(recipe):\n",
    "    print(f\" {recipe['name']:=^33} \")\n",
    "    for ingredient in recipe[\"ingredients\"]:\n",
    "        print(f\"- {ingredient}\")\n",
    "    print(f\"Serves: {recipe['servings']} people\")\n",
    "\n",
    "\n",
    "print_recipe(recipe)"
   ]
  },
  {
   "cell_type": "code",
   "execution_count": 6,
   "metadata": {},
   "outputs": [
    {
     "name": "stdout",
     "output_type": "stream",
     "text": [
      " =======Spaghetti Carbonara======= \n",
      "- 200g spaghetti\n",
      "- 100g pancetta\n",
      "- 2 eggs\n",
      "- 1/2 cup grated Parmesan\n",
      "- 1 clove garlic\n",
      "Serves: 4 people\n"
     ]
    }
   ],
   "source": [
    "def print_recipe(recipe):\n",
    "    print(f\" {recipe['name']:=^33} \")\n",
    "    [print(f\"- {ingredient}\") for ingredient in recipe[\"ingredients\"]]\n",
    "    print(f\"Serves: {recipe['servings']} people\")\n",
    "\n",
    "\n",
    "print_recipe(recipe)\n"
   ]
  },
  {
   "cell_type": "code",
   "execution_count": 7,
   "metadata": {},
   "outputs": [
    {
     "name": "stdout",
     "output_type": "stream",
     "text": [
      " =======Spaghetti Carbonara======= \n",
      "- 200g spaghetti\n",
      "- 100g pancetta\n",
      "- 2 eggs\n",
      "- 1/2 cup grated Parmesan\n",
      "- 1 clove garlic\n",
      "Serves: 4 people\n"
     ]
    }
   ],
   "source": [
    "def print_recipe(name, ingredients, servings):\n",
    "    print(f\" {name:=^33} \")\n",
    "    for ingredient in ingredients:\n",
    "        print(f\"- {ingredient}\")\n",
    "    print(f\"Serves: {servings} people\")\n",
    "\n",
    "\n",
    "print_recipe(**recipe)\n"
   ]
  }
 ],
 "metadata": {
  "kernelspec": {
   "display_name": "Python 3",
   "language": "python",
   "name": "python3"
  },
  "language_info": {
   "codemirror_mode": {
    "name": "ipython",
    "version": 3
   },
   "file_extension": ".py",
   "mimetype": "text/x-python",
   "name": "python",
   "nbconvert_exporter": "python",
   "pygments_lexer": "ipython3",
   "version": "3.10.2"
  }
 },
 "nbformat": 4,
 "nbformat_minor": 2
}
