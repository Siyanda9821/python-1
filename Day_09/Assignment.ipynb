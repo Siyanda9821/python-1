{
 "cells": [
  {
   "cell_type": "markdown",
   "metadata": {},
   "source": [
    "## Assignment\n",
    "\n",
    "```\n",
    "Invoice Date: 03 March 2025\n",
    "\n",
    "Product               Qty     Unit Price          Total\n",
    "-------------------------------------------------------\n",
    "Widget A               10           2.50          25.00\n",
    "Widget B                5          15.75          78.75\n",
    "Gadget                  2          99.99         199.98\n",
    "-------------------------------------------------------\n",
    "Grand Total                                      303.73\n",
    "```"
   ]
  },
  {
   "cell_type": "code",
   "execution_count": null,
   "metadata": {},
   "outputs": [
    {
     "name": "stdout",
     "output_type": "stream",
     "text": [
      "Invoice Date: 04-March-2025\n",
      " Product       Qty       Unit Price       Total\n",
      "----------------------------------------------------\n",
      "Widget A        10         2.5             25.0            \n",
      "Widget B        5          15.75           78.75           \n",
      "Gadget          2          99.99           199.98          \n",
      "----------------------------------------------------\n",
      "Grand Total                                303.73\n",
      "None\n"
     ]
    }
   ],
   "source": [
    "from datetime import datetime\n",
    "\n",
    "items = [\n",
    "    {\"name\": \"Widget A\", \"quantity\": 10, \"price\": 2.5},\n",
    "    {\"name\": \"Widget B\", \"quantity\": 5, \"price\": 15.75},\n",
    "    {\"name\": \"Gadget\", \"quantity\": 2, \"price\": 99.99},\n",
    "]\n",
    "\n",
    "now1 = datetime.today()\n",
    "\n",
    "\n",
    "def print_invoice(invoice):\n",
    "    print(f\"Invoice Date: {now1:%d-%B-%Y}\")\n",
    "    tt=0\n",
    "\n",
    "    print(f\" Product{'':>7}Qty{'':>7}Unit Price{'':>7}Total\")\n",
    "    print(f\"{'':->52}\")\n",
    "\n",
    "    for item in items:\n",
    "       item[\"Total\"]= item[\"quantity\"]*item[\"price\"]\n",
    "\n",
    "    for products in items:\n",
    "        print(\n",
    "            f\"{products['name']: <15} {products['quantity']:<10} {products['price']:<15} {products['Total']:<15} \"\n",
    "        )\n",
    "        tt=tt+products['Total']\n",
    "    print(f\"{'':->52}\")\n",
    "\n",
    "    print(f\"Grand Total {tt:>37}\")\n",
    "        # print(f\"{name}\")\n",
    "\n",
    "    return\n",
    "\n",
    "\n",
    "print(print_invoice(items))\n",
    "print(print_invoice(items))\n"
   ]
  },
  {
   "cell_type": "code",
   "execution_count": null,
   "metadata": {},
   "outputs": [],
   "source": [
    "# from datetime import datetime\n",
    "new=1\n",
    "# items = [\n",
    "#     {\"name\": \"Widget A\", \"quantity\": 10, \"price\": 2.5},\n",
    "#     {\"name\": \"Widget B\", \"quantity\": 5, \"price\": 15.75},\n",
    "#     {\"name\": \"Gadget\", \"quantity\": 2, \"price\": 99.99},\n",
    "# ]\n",
    "\n",
    "# now = datetime.today()\n",
    "\n",
    "\n",
    "# def print_invoice(name,quantity,price,Total):\n",
    "#     print(f\"Invoice Date: {now:%d-%B-%Y}\")\n",
    "#     tt = 0\n",
    "\n",
    "#     for item in items:\n",
    "#         item[\"Total\"] = item[\"quantity\"] * item[\"price\"]\n",
    "\n",
    "#     print(f\" Product{'':>7}Qty{'':>7}Unit Price{'':>7}Total\")\n",
    "#     print(f\"{'':->52}\")\n",
    "#     for item in items:\n",
    "#         print(f\"{name:>20} {quantity:>20} {price:>20} {Total}\")\n",
    "#         tt=tt+item[\"Total\"]\n",
    "\n",
    "#     print(f\"{'':->52}\")\n",
    "\n",
    "#     print(f\"Grand Total {tt:>37}\")\n",
    "#     # print(f\"{name}\")\n",
    "\n",
    "#     return\n",
    "\n",
    "\n",
    "# print_invoice(**items)\n"
   ]
  }
 ],
 "metadata": {
  "kernelspec": {
   "display_name": "Python 3",
   "language": "python",
   "name": "python3"
  },
  "language_info": {
   "codemirror_mode": {
    "name": "ipython",
    "version": 3
   },
   "file_extension": ".py",
   "mimetype": "text/x-python",
   "name": "python",
   "nbconvert_exporter": "python",
   "pygments_lexer": "ipython3",
   "version": "3.10.2"
  }
 },
 "nbformat": 4,
 "nbformat_minor": 2
}
