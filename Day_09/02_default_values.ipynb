{
 "cells": [
  {
   "cell_type": "markdown",
   "metadata": {},
   "source": [
    "# Default values\n",
    "- Default values should on the last parameter\n",
    "- Default value is used when no argument has been entered"
   ]
  },
  {
   "cell_type": "code",
   "execution_count": 3,
   "metadata": {},
   "outputs": [],
   "source": [
    "def driving_test(name, age, car = \"Polo Vivo\"):  # parameter (matching based on pposition) #\n",
    "    return (\n",
    "        f\"{name} is eligible for driving. You will be tested with {car}\"\n",
    "        if age >= 18\n",
    "        else \"Try again after few years 👶\"\n",
    "    )"
   ]
  },
  {
   "cell_type": "code",
   "execution_count": 4,
   "metadata": {},
   "outputs": [
    {
     "data": {
      "text/plain": [
       "'Ace is eligible for driving. You will be tested with Polo Vivo'"
      ]
     },
     "execution_count": 4,
     "metadata": {},
     "output_type": "execute_result"
    }
   ],
   "source": [
    "driving_test(\"Ace\", 19)\n"
   ]
  },
  {
   "cell_type": "code",
   "execution_count": 5,
   "metadata": {},
   "outputs": [],
   "source": [
    "def driving_test2(\n",
    "    name=\"Mr./Mrs. cool\", age=0, car=\"Polo Vivo\"):\n",
    "    if age >= 18:\n",
    "        return f\"{name} is eligible for driving test. You will be tested with {car}\"\n",
    "    else:\n",
    "        return \"Try again after few years \"\n"
   ]
  },
  {
   "cell_type": "code",
   "execution_count": null,
   "metadata": {},
   "outputs": [
    {
     "data": {
      "text/plain": [
       "'Try again after few years '"
      ]
     },
     "execution_count": 6,
     "metadata": {},
     "output_type": "execute_result"
    }
   ],
   "source": [
    "driving_test2() # since there are no arguments, default values are used"
   ]
  }
 ],
 "metadata": {
  "kernelspec": {
   "display_name": "Python 3",
   "language": "python",
   "name": "python3"
  },
  "language_info": {
   "codemirror_mode": {
    "name": "ipython",
    "version": 3
   },
   "file_extension": ".py",
   "mimetype": "text/x-python",
   "name": "python",
   "nbconvert_exporter": "python",
   "pygments_lexer": "ipython3",
   "version": "3.10.2"
  }
 },
 "nbformat": 4,
 "nbformat_minor": 2
}
