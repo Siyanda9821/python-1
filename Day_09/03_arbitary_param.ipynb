{
 "cells": [
  {
   "cell_type": "code",
   "execution_count": 15,
   "metadata": {},
   "outputs": [
    {
     "name": "stdout",
     "output_type": "stream",
     "text": [
      "'1984' by George Orwell (1949)\n",
      "'Untitled' by J.K. Rowling (N/A)\n",
      "'The Great Gatsby' by F. Scott Fitzgerald (1925)\n",
      "'To Kill a Mockingbird' by Unknown (1960)\n",
      "'Untitled' by Ernest Hemingway (1952)\n"
     ]
    }
   ],
   "source": [
    "# Task 1.2\n",
    "\n",
    "books = [\n",
    "    {\"title\": \"1984\", \"author\": \"George Orwell\", \"year\": 1949},\n",
    "    {\"author\": \"J.K. Rowling\"},  # Missing title and year\n",
    "    {\"title\": \"The Great Gatsby\", \"author\": \"F. Scott Fitzgerald\", \"year\": 1925},\n",
    "    {\"title\": \"To Kill a Mockingbird\", \"year\": 1960},  # Missing author\n",
    "    {\"author\": \"Ernest Hemingway\", \"year\": 1952},  # Missing title\n",
    "]\n",
    "\n",
    "def format_book_info():\n",
    "    for book in books:\n",
    "        title = book.get(\"title\", \"Untitled\")\n",
    "        author = book.get(\"author\", \"Unknown\")\n",
    "        year = book.get(\"year\", \"N/A\")\n",
    "        print(f\"'{title}' by {author} ({year})\")\n",
    "\n",
    "format_book_info()\n",
    "\n",
    "# Output\n",
    "# '1984' by George Orwell (1949)\n",
    "# 'Untitled' by J.K. Rowling (N/A)\n",
    "# 'The Great Gatsby' by F. Scott Fitzgerald (1925)\n",
    "# 'To Kill a Mockingbird' by Unknown (1960)\n",
    "# 'Untitled' by Ernest Hemingway (1952)\n"
   ]
  },
  {
   "cell_type": "code",
   "execution_count": 20,
   "metadata": {},
   "outputs": [
    {
     "name": "stdout",
     "output_type": "stream",
     "text": [
      "'1984' by George Orwell (1949)\n",
      "'Untitled' by J.K. Rowling (N/A)\n",
      "'The Great Gatsby' by F. Scott Fitzgerald (1925)\n",
      "'To Kill a Mockingbird' by Unkown (1960)\n",
      "'Untitled' by Ernest Hemingway (1952)\n"
     ]
    }
   ],
   "source": [
    "books = [\n",
    "    {\"title\": \"1984\", \"author\": \"George Orwell\", \"year\": 1949},\n",
    "    {\"author\": \"J.K. Rowling\"},  # Missing title and year\n",
    "    {\"title\": \"The Great Gatsby\", \"author\": \"F. Scott Fitzgerald\", \"year\": 1925},\n",
    "    {\"title\": \"To Kill a Mockingbird\", \"year\": 1960},  # Missing author\n",
    "    {\"author\": \"Ernest Hemingway\", \"year\": 1952},  # Missing title\n",
    "]\n",
    "\n",
    "def format_book_info(title=\"Untitled\", author=\"Unkown\", year=\"N/A\"):\n",
    "    print(f\"'{title}' by {author} ({year})\")\n",
    "\n",
    "for book in books:\n",
    "    format_book_info(**book)\n"
   ]
  },
  {
   "cell_type": "code",
   "execution_count": null,
   "metadata": {},
   "outputs": [],
   "source": [
    "def mood_report(**feeling):\n",
    "    mood = feeling.get(\"mood\", \"🙂\")\n",
    "    time_of_day = feeling.get(\"time_of_day\", \"morning 🌅\")\n",
    "    return f\"Feeling {mood} this {time_of_day}.\"\n"
   ]
  },
  {
   "cell_type": "code",
   "execution_count": null,
   "metadata": {},
   "outputs": [
    {
     "name": "stdout",
     "output_type": "stream",
     "text": [
      "() {}\n",
      "None\n",
      "() {'mood': '😎', 'time_of_day': 'afternoon ☀️'}\n"
     ]
    }
   ],
   "source": [
    "def mood_report(*tup,**dic):\n",
    "    print(tup,dic)\n",
    "\n",
    "    if len(tup)==0:\n",
    "        #=\"Feeling 😀 This morning🌄\"\n",
    "\n",
    "print(mood_report())\n",
    "mood_report(mood=\"😎\", time_of_day=\"afternoon ☀️\")\n",
    "\n",
    "#     pass\n",
    "\n",
    "\n",
    "# # Example outputs:\n",
    "# print(mood_report())  # \"Feeling 🙂 this morning 🌅.\"\n",
    "# print(\n",
    "#     mood_report(mood=\"😎\", time_of_day=\"afternoon ☀️\")\n",
    "# )  # \"Feeling 😎 this afternoon ☀️.\"\n"
   ]
  },
  {
   "cell_type": "code",
   "execution_count": null,
   "metadata": {},
   "outputs": [],
   "source": [
    "# def own_max(*nums):  # * -> Collect all the arguments\n",
    "#     print(nums)\n",
    "\n",
    "\n",
    "# # own_max(9, 6)\n",
    "# # own_max(3, 4, 5, 6)\n",
    "# # own_max(3, 4, 5, 6, 7, 2, 3, 10, 1)\n",
    "\n",
    "\n",
    "# def own_max(*nums):  # * -> Collect all the arguments\n",
    "#     # Write normal for loop and return max value\n",
    "#     for num in nums:\n",
    "#         if num>max_value:\n",
    "#             max_value=num\n",
    "\n",
    "#     return max_value\n",
    "\n",
    "# max_value = nums[0]\n",
    "\n",
    "\n",
    "# own_max(9, 6)\n",
    "# own_max(3, 4, 5, 6)\n",
    "# own_max(3, 4, 5, 6, 7, 2, 3, 10, 1)\n"
   ]
  },
  {
   "cell_type": "code",
   "execution_count": 5,
   "metadata": {},
   "outputs": [
    {
     "name": "stdout",
     "output_type": "stream",
     "text": [
      "120\n",
      "9\n",
      "None\n"
     ]
    }
   ],
   "source": [
    "def own_max(*nums):  # * -> Collect all the arguments\n",
    "    if not nums:\n",
    "        return None  # Return None if no numbers are provided\n",
    "\n",
    "    max_value = nums[0]  # Assume the first number is the max\n",
    "\n",
    "    for num in nums:\n",
    "        if num > max_value:\n",
    "            max_value = num  # Update max if a larger number is found\n",
    "\n",
    "    return max_value\n",
    "\n",
    "\n",
    "# Example usage\n",
    "print(own_max(10, 25, 78, 99, 54, 120, 5))  # Output: 120\n",
    "print(own_max(3, 7, 2, 9, 1))  # Output: 9\n",
    "print(own_max())  # Output: None (No numbers given)\n"
   ]
  }
 ],
 "metadata": {
  "kernelspec": {
   "display_name": "Python 3",
   "language": "python",
   "name": "python3"
  },
  "language_info": {
   "codemirror_mode": {
    "name": "ipython",
    "version": 3
   },
   "file_extension": ".py",
   "mimetype": "text/x-python",
   "name": "python",
   "nbconvert_exporter": "python",
   "pygments_lexer": "ipython3",
   "version": "3.10.2"
  }
 },
 "nbformat": 4,
 "nbformat_minor": 2
}
