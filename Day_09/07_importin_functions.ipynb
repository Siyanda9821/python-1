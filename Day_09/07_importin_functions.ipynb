{
 "cells": [
  {
   "cell_type": "markdown",
   "metadata": {},
   "source": [
    "## Summary \n",
    "\n",
    "Because __name__ is main in it's own file we write everything with an output under the if statement.\n",
    "\n",
    "if __name__==__main__:\n",
    "    everything with an output\n",
    "\n",
    "This ensures that when a function is imported from from the file, the whole file is not run and output is not displayed. "
   ]
  }
 ],
 "metadata": {
  "kernelspec": {
   "display_name": "Python 3",
   "language": "python",
   "name": "python3"
  },
  "language_info": {
   "name": "python",
   "version": "3.10.2"
  }
 },
 "nbformat": 4,
 "nbformat_minor": 2
}
