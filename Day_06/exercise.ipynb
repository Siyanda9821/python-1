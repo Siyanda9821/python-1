{
 "cells": [
  {
   "cell_type": "code",
   "execution_count": null,
   "metadata": {},
   "outputs": [],
   "source": [
    "inventory = [\n",
    "    {\"name\": \"Apple 🍎\", \"quantity\": 30, \"price\": 0.50},\n",
    "    {\"name\": \"Banana 🍌\", \"quantity\": 20, \"price\": 0.20},\n",
    "]\n",
    "\n",
    "item_name = input(\"What is the product name?\")\n",
    "item_qty = int(input(\"What is the quantity?\"))\n",
    "item_price = float(input(\"What is the price?\"))\n",
    "\n",
    "print(item_name)\n",
    "print(item_qty)\n",
    "print(item_price)\n",
    "\n",
    "product = {\"name\": item_name, \"quantity\": item_qty, \"price\": item_price}\n",
    "inventory.append(product)\n",
    "\n",
    "inventory\n"
   ]
  }
 ],
 "metadata": {
  "kernelspec": {
   "display_name": "Python 3",
   "language": "python",
   "name": "python3"
  },
  "language_info": {
   "name": "python",
   "version": "3.10.2"
  }
 },
 "nbformat": 4,
 "nbformat_minor": 2
}
