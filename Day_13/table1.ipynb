{
 "cells": [
  {
   "cell_type": "markdown",
   "metadata": {},
   "source": [
    "| **Method**                | **Tuple**                           | **Dictionary**                        | **List**                            | **Set**                            |\n",
    "|---------------------------|-------------------------------------|---------------------------------------|-------------------------------------|-------------------------------------|\n",
    "| **add()**                  | Not Available                      | Not Available                         | Not Available                       | Adds an element to the set         |\n",
    "| **clear()**                | Not Available                      | Removes all items                    | Removes all items                   | Removes all items                  |\n",
    "| **copy()**                 | Returns a new tuple                | Returns a shallow copy                | Returns a shallow copy              | Returns a shallow copy             |\n",
    "| **count()**                | Returns count of an element        | Not Available                         | Returns count of an element         | Not Available                      |\n",
    "| **extend()**               | Not Available                      | Not Available                         | Appends elements from an iterable   | Not Available                      |\n",
    "| **get()**                  | Not Available                      | Returns value for key (default=None)  | Not Available                       | Not Available                      |\n",
    "| **index()**                | Returns index of element           | Not Available                         | Returns index of first occurrence   | Not Available                      |\n",
    "| **insert()**               | Not Available                      | Not Available                         | Inserts an element at given index  | Not Available                      |\n",
    "| **keys()**                 | Not Available                      | Returns list of dictionary keys      | Not Available                       | Not Available                      |\n",
    "| **pop()**                  | Not Available                      | Removes and returns an element        | Removes and returns an element      | Removes and returns an element     |\n",
    "| **popitem()**              | Not Available                      | Removes and returns a key-value pair  | Not Available                       | Removes and returns an arbitrary element |\n",
    "| **remove()**               | Not Available                      | Not Available                         | Removes the first occurrence of an element | Not Available                      |\n",
    "| **reverse()**              | Not Available                      | Not Available                         | Reverses the list                   | Not Available                      |\n",
    "| **setdefault()**           | Not Available                      | Returns value for key (if exists, else sets it) | Not Available | Not Available |\n",
    "| **sort()**                 | Not Available                      | Not Available                         | Sorts the list                      | Not Available                      |\n",
    "| **values()**               | Not Available                      | Returns list of dictionary values     | Not Available                       | Not Available                      |\n",
    "| **union()**                | Not Available                      | Not Available                         | Not Available                       | Returns union of two sets          |\n",
    "| **intersection()**         | Not Available                      | Not Available                         | Not Available                       | Returns intersection of two sets   |\n",
    "| **difference()**           | Not Available                      | Not Available                         | Not Available                       | Returns difference of two sets     |\n",
    "| **issubset()**             | Not Available                      | Not Available                         | Not Available                       | Returns True if set is subset of another |\n",
    "| **issuperset()**           | Not Available                      | Not Available                         | Not Available                       | Returns True if set is superset of another |\n",
    "| **discard()**              | Not Available                      | Not Available                         | Not Available                       | Removes element if exists (no error if not) |\n"
   ]
  }
 ],
 "metadata": {
  "language_info": {
   "name": "python"
  }
 },
 "nbformat": 4,
 "nbformat_minor": 2
}
